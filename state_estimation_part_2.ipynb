{
 "cells": [
  {
   "cell_type": "code",
   "execution_count": 3,
   "metadata": {},
   "outputs": [],
   "source": [
    "\"\"\" \n",
    "g = -10 \n",
    "GPS = [xt,yt,zt]\n",
    "base station = [D1,D2,D3,D4] from z=10 \n",
    "IMU = [xt,yt,zt,vxt,vyt,vzt] \n",
    "motion noise = N(0,R) ; R is diag(sigx^2,sigy^2,sigz^2,sigvx^2,sigvy^2,sigvz^2) \n",
    "sigx=sigy=sigz=0.01\n",
    "sigvx=sigvy=sigvz=0.1 \n",
    "\n",
    "measurement noise = N(0,Q) Q = sig^2I \n",
    "sigGPS = 0.1 \n",
    "sigBS = 0.1 \n",
    "sigIMU = 0.1 \n",
    "\n",
    "ut is only g in zt direction \n",
    "\n",
    "Time in seconds \n",
    "N = 130 time steps , delta_time = 0.01 \n",
    "field is 100 x 64 , \n",
    "goal post is 8 x 3 , at (4,50,0);(4,50,3);(-4,50,3);(-4,50,0); \n",
    "\n",
    "boal init = [24.0,4.0,0.0,−16.04,36.8,8.61]T , with sigma = 1e-4 I_6 \n",
    "state Xt = [xt,yt,zt,vxt,vyt,vzt]T \n",
    "\"\"\"\n",
    "import numpy as np \n",
    "import math \n",
    "from numpy.random import multivariate_normal  \n",
    "import plotly.express as px\n",
    "import plotly.graph_objects as go \n",
    "plot_dir = \"plots_part_2/\"\n",
    "tol = 0"
   ]
  },
  {
   "cell_type": "code",
   "execution_count": null,
   "metadata": {},
   "outputs": [],
   "source": [
    "g = -10 \n",
    "def u(t):\n",
    "    return np.array([g]).reshape(1,1) \n",
    "time_step = 0.01 \n",
    "N = 130 \n",
    "time = [i*time_step for i in range(N)]\n"
   ]
  },
  {
   "cell_type": "code",
   "execution_count": null,
   "metadata": {},
   "outputs": [],
   "source": [
    "# Part (a) motion model \n",
    "sigGPS = 0.1 \n",
    "sigBS = 0.1 \n",
    "sigIMU = 0.1  \n",
    "sigx=sigy=sigz=0.01 \n",
    "sigvx=sigvy=sigvz=0.1\n",
    "\n",
    "R = np.diag([sigx**2,sigy**2,sigz**2,sigvx**2,sigvy**2,sigvz**2])\n",
    "Q_GPS = sigGPS**2*np.eye(3) \n",
    "Q_BS = sigBS**2*np.eye(4) \n",
    "Q_IMU = sigIMU**2*np.eye(6) \n",
    "\n",
    "mu_0 = np.transpose(np.array([24.0,4.0,0.0,-16.04,36.8,8.61]))\n",
    "mu_0 = mu_0.reshape((6,1)) \n",
    "sigma_0 = 1e-4*np.eye(6) \n",
    "\n",
    "At = np.array([\n",
    "    [1,0,0,time_step,0,0],\n",
    "    [0,1,0,0,time_step,0],\n",
    "    [0,0,1,0,0,time_step],\n",
    "    [0,0,0,1,0,0],\n",
    "    [0,0,0,0,1,0],\n",
    "    [0,0,0,0,0,1]\n",
    "    ])\n",
    "Bt =  np.transpose(np.array([0,0,0.5*(time_step**2),0,0,time_step])) \n",
    "\n",
    "\n"
   ]
  }
 ],
 "metadata": {
  "kernelspec": {
   "display_name": "Python 3",
   "language": "python",
   "name": "python3"
  },
  "language_info": {
   "codemirror_mode": {
    "name": "ipython",
    "version": 3
   },
   "file_extension": ".py",
   "mimetype": "text/x-python",
   "name": "python",
   "nbconvert_exporter": "python",
   "pygments_lexer": "ipython3",
   "version": "3.11.9"
  }
 },
 "nbformat": 4,
 "nbformat_minor": 2
}
