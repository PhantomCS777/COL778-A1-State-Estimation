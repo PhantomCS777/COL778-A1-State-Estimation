{
 "cells": [
  {
   "cell_type": "code",
   "execution_count": 66,
   "metadata": {},
   "outputs": [],
   "source": [
    "# pre reqs \n",
    "\"\"\"\n",
    " zt = 2xt/vsound \n",
    " ut = xt.. \n",
    " xt = xt0 + ut(t)^2/2 \n",
    " ept = N(0,R)\n",
    " delt = N(0,Q) \n",
    " X = [xt,xt.] \n",
    " \n",
    " 326 time stamps with 0.01 interval \n",
    " xt(0)= 0 , var = 1e-4I \n",
    " Q = 0.01 \n",
    " var(x) = 0.1^2 , var(x.) = 0.5^2 , R is diag \n",
    " vsound = 3000 km/hr \n",
    " u(t) = ... \n",
    "\"\"\"\n",
    "import numpy as np \n",
    "import math \n",
    "tol = 1e-12"
   ]
  },
  {
   "cell_type": "code",
   "execution_count": 67,
   "metadata": {},
   "outputs": [],
   "source": [
    "# True x,v \n",
    "def u(t):\n",
    "    if t < 0.25:\n",
    "        return 400 \n",
    "    elif t > 3 and t < 3.25:\n",
    "        return -400 \n",
    "    else:\n",
    "        return 0 \n",
    "\n",
    "def v(t):\n",
    "    if t < 0.25: \n",
    "        return u(t)*t \n",
    "    elif t > 3 and t < 3.25:\n",
    "        return 100+u(t)*(t-3)\n",
    "    else:\n",
    "        return 0.25*u(0) \n",
    "\n",
    "def x(t):\n",
    "    if t < 0.25:\n",
    "        return (1/2)*u(t)*t**2 \n",
    "    elif t > 3 and t <= 3.25:\n",
    "        return (1/2)*u(0)*(0.25)**2 + (2.75)*v(0.25) + v(0.25)*(t-3) + (1/2)*u(t)*(t-3)**2\n",
    "    else:\n",
    "        return (1/2)*u(0)*(0.25)**2 + (t-0.25)*v(0.25)\n"
   ]
  },
  {
   "cell_type": "code",
   "execution_count": 68,
   "metadata": {},
   "outputs": [
    {
     "name": "stdout",
     "output_type": "stream",
     "text": [
      "[[0]\n",
      " [0]]\n",
      "[[0 0]]\n",
      "[np.int64(0), np.float64(0.019971547714097728), np.float64(0.07982734133440983), np.float64(0.17913198018892562), np.float64(0.3165386776007145), np.float64(0.49743684657723014), np.float64(0.7165486591000556), np.float64(0.9776239087730505), np.float64(1.2825865362879778), np.float64(1.6266025188407756), np.float64(2.0062954049185326), np.float64(2.4330182065494528), np.float64(2.8857460045011174), np.float64(3.393423091883782), np.float64(3.927745818449974), np.float64(4.511801896448669), np.float64(5.12489491216633), np.float64(5.8098462861385025), np.float64(6.494072797360416), np.float64(7.232928376029798), np.float64(8.003681493792383), np.float64(8.826839983452222), np.float64(9.668899204697246), np.float64(10.565380524877394), np.float64(11.497655524954762), np.float64(12.451264457399638), np.float64(13.464922979018048), np.float64(14.507459706634569), np.float64(15.58153533773996), np.float64(16.61381360574821), np.float64(17.620327049129262), np.float64(18.660026294438286), np.float64(19.69380752162405), np.float64(20.733110864579437), np.float64(21.78483767049497), np.float64(22.810548352889317), np.float64(23.845171183627745), np.float64(24.846994990516716), np.float64(25.888993430558575), np.float64(26.898052214578932), np.float64(27.949954228020196), np.float64(29.008501005242294), np.float64(30.036763474221715), np.float64(31.028310777633216), np.float64(32.08247828647984), np.float64(33.14751835196077), np.float64(34.212005236980545), np.float64(35.29981185559572), np.float64(36.34610809844157), np.float64(37.388523575163426), np.float64(38.445522293569994), np.float64(39.49614932683107), np.float64(40.529052835863624), np.float64(41.51772480260691), np.float64(42.54265471040764), np.float64(43.57790766858471), np.float64(44.65161747486414), np.float64(45.65554438979469), np.float64(46.73211985012621), np.float64(47.829733866507944), np.float64(48.90452937645876), np.float64(49.92316831888665), np.float64(50.98414615426499), np.float64(51.99359264817707), np.float64(52.94351330727781), np.float64(54.015235073357246), np.float64(55.05163744031649), np.float64(56.10110720777951), np.float64(57.163512507047805), np.float64(58.17358814915784), np.float64(59.233878143687946), np.float64(60.26679569977264), np.float64(61.351521136094995), np.float64(62.394575656050634), np.float64(63.491345237068074), np.float64(64.54957283751232), np.float64(65.5988558378365), np.float64(66.6208945146208), np.float64(67.56760006136514), np.float64(68.63278667018169), np.float64(69.694067601763), np.float64(70.64390029831927), np.float64(71.61028036761282), np.float64(72.76470483511224), np.float64(73.79101547822002), np.float64(74.80469008328727), np.float64(75.87982790069894), np.float64(76.97497416153168), np.float64(78.04447380723272), np.float64(79.06122107121465), np.float64(80.05386685921204), np.float64(81.0452035022226), np.float64(82.14156011059097), np.float64(83.1102904603854), np.float64(84.11783007161291), np.float64(85.1817798186169), np.float64(86.28332074199503), np.float64(87.2980075062414), np.float64(88.32185284717825), np.float64(89.3542371196859), np.float64(90.4450359099239), np.float64(91.46584415970618), np.float64(92.56235431827696), np.float64(93.65879858944764), np.float64(94.75584460909657), np.float64(95.74928948379149), np.float64(96.78419846996677), np.float64(97.89453941333811), np.float64(98.90707426219153), np.float64(99.90619961383105), np.float64(100.91793781842652), np.float64(101.94172820496027), np.float64(102.87118312848736), np.float64(103.97381384867306), np.float64(105.05884059269688), np.float64(106.2152215619184), np.float64(107.25799779753952), np.float64(108.15677618111661), np.float64(109.37814495864028), np.float64(110.49853328439427), np.float64(111.51131799195974), np.float64(112.5090837113377), np.float64(113.59458534149061), np.float64(114.58472652004009), np.float64(115.56091788508239), np.float64(116.56613941838668), np.float64(117.59405256215896), np.float64(118.56967490048856), np.float64(119.59825278235608), np.float64(120.57897791741043), np.float64(121.68479444582773), np.float64(122.6791619154795), np.float64(123.67606537971623), np.float64(124.75559272808543), np.float64(125.84057411415813), np.float64(126.90917031964544), np.float64(127.93626781308916), np.float64(129.08207090853475), np.float64(130.10334682621456), np.float64(131.20509988654715), np.float64(132.27388398878534), np.float64(133.45281716905438), np.float64(134.51695076207798), np.float64(135.4194804673578), np.float64(136.38616606330586), np.float64(137.44419781960283), np.float64(138.35283863263328), np.float64(139.37223971174024), np.float64(140.35357788279006), np.float64(141.27944073357745), np.float64(142.33617817576706), np.float64(143.31896695778983), np.float64(144.3811375172882), np.float64(145.3465006378411), np.float64(146.48971141865138), np.float64(147.52037224240055), np.float64(148.64002466277958), np.float64(149.59995581523629), np.float64(150.53985337277808), np.float64(151.59424576538154), np.float64(152.68195458210195), np.float64(153.7029113087928), np.float64(154.63083628205402), np.float64(155.7332917364759), np.float64(156.84800494003358), np.float64(157.80654599631572), np.float64(158.94107509316635), np.float64(160.01201516097748), np.float64(161.0081636400715), np.float64(162.04332805169537), np.float64(163.13388357258236), np.float64(164.07006255204942), np.float64(165.15270747866253), np.float64(166.19864876572495), np.float64(167.2717694077256), np.float64(168.29109670727394), np.float64(169.2234705043745), np.float64(170.20934985292138), np.float64(171.2748914082674), np.float64(172.29926842244905), np.float64(173.4649177636078), np.float64(174.55450228303), np.float64(175.49078260097113), np.float64(176.67275907082362), np.float64(177.65225747754067), np.float64(178.6619446790406), np.float64(179.64074255526904), np.float64(180.6169338926212), np.float64(181.70512000061785), np.float64(182.65040889013403), np.float64(183.80596327552027), np.float64(184.77287269110062), np.float64(185.87008111277052), np.float64(186.8561519735409), np.float64(187.84174922235934), np.float64(188.86797152582335), np.float64(189.96094354550766), np.float64(190.9881128239182), np.float64(192.0139541018345), np.float64(193.10133001398663), np.float64(193.97708854746782), np.float64(195.04534154901972), np.float64(196.1015277235956), np.float64(197.25211603915366), np.float64(198.3120375983952), np.float64(199.26584402789746), np.float64(200.08785454771345), np.float64(201.0193919130651), np.float64(202.0905448705773), np.float64(203.24593568051156), np.float64(204.36524892646548), np.float64(205.54260549082093), np.float64(206.63157162178703), np.float64(207.53642778615927), np.float64(208.43998170193615), np.float64(209.5784818917548), np.float64(210.59231274768723), np.float64(211.6169157740055), np.float64(212.64499038377716), np.float64(213.62652056153797), np.float64(214.72317314877378), np.float64(215.92042201391638), np.float64(216.959801103416), np.float64(217.91860939823582), np.float64(219.0124321479019), np.float64(219.97020751116534), np.float64(221.11578593448624), np.float64(222.272062662245), np.float64(223.29684662058582), np.float64(224.26761703694828), np.float64(225.52976957461516), np.float64(226.76392952947464), np.float64(227.72377439409252), np.float64(228.68362001310882), np.float64(229.85734599326233), np.float64(231.0235071057336), np.float64(231.91703796542092), np.float64(232.9907527182073), np.float64(234.09856087015854), np.float64(235.10118776464142), np.float64(236.12662767645426), np.float64(237.16464941215153), np.float64(238.29646803072748), np.float64(239.20923136524252), np.float64(240.11012826689026), np.float64(241.1500216531397), np.float64(242.15518352084186), np.float64(243.34835650287275), np.float64(244.43015310618176), np.float64(245.3668895169418), np.float64(246.49175137655536), np.float64(247.50421630508393), np.float64(248.552451236963), np.float64(249.67191590025178), np.float64(250.6939372980723), np.float64(251.709408643042), np.float64(252.76453060641953), np.float64(253.87469073739987), np.float64(254.99060716064105), np.float64(256.0017378644447), np.float64(257.0634851263017), np.float64(258.0393401737495), np.float64(259.0588953980507), np.float64(260.1329819747931), np.float64(261.01549907576754), np.float64(262.04118821717725), np.float64(262.8546039678118), np.float64(263.8616842037985), np.float64(265.0549550646248), np.float64(266.1053755455474), np.float64(267.187174106699), np.float64(268.2882298268352), np.float64(269.281747178028), np.float64(270.1905035730804), np.float64(271.33426950326475), np.float64(272.4481858495061), np.float64(273.46895614139106), np.float64(274.5430992810634), np.float64(275.6231815948208), np.float64(276.63961627497883), np.float64(277.614227837591), np.float64(278.5778888540664), np.float64(279.46643732148425), np.float64(280.5705177026504), np.float64(281.57552505564144), np.float64(282.53250015346595), np.float64(283.66342272687365), np.float64(284.6613831611826), np.float64(285.6137346968389), np.float64(286.7853605645873), np.float64(287.87304888323695), np.float64(288.7805525737366), np.float64(289.981685940528), np.float64(291.0044596852422), np.float64(291.9912482226843), np.float64(292.93093926128086), np.float64(294.1168188191812), np.float64(295.22246621948545), np.float64(296.356291973393), np.float64(297.31094920957065), np.float64(298.4747406400838), np.float64(299.5744610175602), np.float64(300.68474351000384), np.float64(301.759165245359), np.float64(302.61598656090496), np.float64(303.45676332384767), np.float64(304.3884068082793), np.float64(305.1792888499407), np.float64(306.07058436069906), np.float64(306.96234270268207), np.float64(307.57759698643105), np.float64(308.11888253757786), np.float64(308.5473711837072), np.float64(309.13804026230645), np.float64(309.66081831366466), np.float64(310.2835998229292), np.float64(310.7071166453131), np.float64(310.9584840626246), np.float64(311.1375702749215), np.float64(311.4002785767653), np.float64(311.6287943272597), np.float64(311.92809620129816), np.float64(312.2307864502859), np.float64(312.4166249237888), np.float64(312.4729534667877), np.float64(312.4922999700154)]\n",
      "[np.float64(0.012301681339876358), np.float64(-0.024849342060127774), np.float64(-0.14624932807936433), np.float64(-0.13776071689008043), np.float64(-0.12402071040590511), np.float64(0.016780638778993495), np.float64(0.5282623132348512), np.float64(0.8139453241783705), np.float64(1.2114104544260238), np.float64(1.5027061531910406), np.float64(1.8580993727962136), np.float64(2.224879359762984), np.float64(2.845755349826939), np.float64(3.5567147693928525), np.float64(4.074949296664856), np.float64(4.688159681501231), np.float64(5.443350395388205), np.float64(6.203646358617086), np.float64(7.050209082855759), np.float64(7.650560403006901), np.float64(8.508522019730666), np.float64(9.329614238548514), np.float64(10.198891555018918), np.float64(11.25532237392593), np.float64(12.080903704052185), np.float64(13.136020656881785), np.float64(14.087546987813807), np.float64(15.249538603191743), np.float64(16.280565193447398), np.float64(17.25110105318725), np.float64(18.230176791412866), np.float64(19.242096898370775), np.float64(19.986077735816895), np.float64(21.08346856335767), np.float64(22.23477671808744), np.float64(23.15312992482853), np.float64(24.209347317599395), np.float64(25.273516291483986), np.float64(26.32616650391832), np.float64(27.329122182852313), np.float64(28.48411892430518), np.float64(29.41030685430205), np.float64(30.435048935724893), np.float64(31.609759997205956), np.float64(32.62966104588524), np.float64(33.58154872977776), np.float64(34.55366711400905), np.float64(35.82537606890839), np.float64(36.942215545001645), np.float64(38.05730053576846), np.float64(38.973664237480804), np.float64(40.07271424113088), np.float64(41.00788822274721), np.float64(41.947101844877025), np.float64(42.97036709092777), np.float64(44.043925452764014), np.float64(45.21754862564542), np.float64(46.17356841586448), np.float64(47.311673617674515), np.float64(48.29625671078943), np.float64(49.36627234175636), np.float64(50.40694994167067), np.float64(51.51838995887014), np.float64(52.37332246751418), np.float64(53.455168097325334), np.float64(54.69409162185757), np.float64(55.72958831360189), np.float64(56.73345381128468), np.float64(57.75095301481882), np.float64(58.93310212326353), np.float64(59.95326268369386), np.float64(60.99967225834357), np.float64(62.094096891900165), np.float64(63.07833536082333), np.float64(64.05745347148401), np.float64(65.07391606629665), np.float64(66.1382683026819), np.float64(67.29598312418037), np.float64(68.57901184146677), np.float64(69.71178141856124), np.float64(70.68358622603137), np.float64(71.88342876633995), np.float64(72.93583502001968), np.float64(74.01527636240098), np.float64(74.98348660479537), np.float64(76.1085540161076), np.float64(77.05568862332944), np.float64(78.3355427412637), np.float64(79.48191936224988), np.float64(80.58516328602158), np.float64(81.74361676586176), np.float64(82.72005550657896), np.float64(83.96670911460178), np.float64(85.10861809839565), np.float64(86.11652195940147), np.float64(87.0394511752983), np.float64(88.10685681876767), np.float64(89.19940556179387), np.float64(90.30207131184383), np.float64(91.54047451302043), np.float64(92.69394817781802), np.float64(93.7965139818496), np.float64(94.94378963233387), np.float64(95.95567136158112), np.float64(97.10045727439378), np.float64(98.3681232885619), np.float64(99.41586662491746), np.float64(100.42557742042982), np.float64(101.58685216912811), np.float64(102.73022189201605), np.float64(103.6702799743454), np.float64(104.8411380902974), np.float64(105.83932173598323), np.float64(107.04404925203376), np.float64(108.08475916501813), np.float64(109.05029107555228), np.float64(110.0571001539797), np.float64(110.91449421926387), np.float64(112.11446159526338), np.float64(113.20415123176949), np.float64(114.29741412696852), np.float64(115.33628874319035), np.float64(116.66842453477558), np.float64(117.81803735049866), np.float64(118.80751384548586), np.float64(119.84476831403582), np.float64(120.78662446924002), np.float64(121.70946305257579), np.float64(122.68712316075317), np.float64(123.85990037927624), np.float64(124.71803657822652), np.float64(125.70974908348202), np.float64(126.7141930515269), np.float64(127.59827012301778), np.float64(128.61115849448484), np.float64(129.65231289949472), np.float64(130.71939229635862), np.float64(131.83409812317097), np.float64(132.81395815407734), np.float64(133.9828385955919), np.float64(135.06626336149176), np.float64(136.0601443779736), np.float64(137.07948737773503), np.float64(138.12907034342183), np.float64(139.12748308816444), np.float64(140.1783468097242), np.float64(141.16699007843192), np.float64(142.1355377515004), np.float64(143.2209748212724), np.float64(144.26676708735616), np.float64(145.3824703369002), np.float64(146.49064863858385), np.float64(147.40130199136584), np.float64(148.53313878731652), np.float64(149.59573285442343), np.float64(150.59398010939924), np.float64(151.57669103967893), np.float64(152.51482608952952), np.float64(153.40764981595473), np.float64(154.3741995044159), np.float64(155.3767149114892), np.float64(156.4139720458831), np.float64(157.41319823491264), np.float64(158.58462634779565), np.float64(159.61283934882408), np.float64(160.64401115766606), np.float64(161.5664690995168), np.float64(162.69300261201295), np.float64(163.66882694179546), np.float64(164.9462993642645), np.float64(165.90544114090898), np.float64(166.91885525396438), np.float64(168.08390012783084), np.float64(169.22303421908111), np.float64(170.27583306797544), np.float64(171.24770472856852), np.float64(172.19264023671627), np.float64(173.4177265454002), np.float64(174.2924205277484), np.float64(175.39055931739549), np.float64(176.51663828529294), np.float64(177.50259547665885), np.float64(178.44974186803364), np.float64(179.26482043433145), np.float64(180.20165955206738), np.float64(181.26509844884077), np.float64(182.2206885082755), np.float64(183.24254878425413), np.float64(184.23831645530544), np.float64(185.28976513848426), np.float64(186.45461113813982), np.float64(187.39647432438574), np.float64(188.3817544285876), np.float64(189.4422094854418), np.float64(190.58318830947593), np.float64(191.6443276055448), np.float64(192.557891556535), np.float64(193.6857479617758), np.float64(194.60613186163218), np.float64(195.82859014931364), np.float64(196.9069316717942), np.float64(197.9308489720107), np.float64(198.75131092901137), np.float64(199.69476763480708), np.float64(200.79908116010697), np.float64(201.7975921863167), np.float64(202.8965077753149), np.float64(203.87171828428248), np.float64(204.7484803543895), np.float64(205.82021966829635), np.float64(206.81421296888132), np.float64(207.86514111401195), np.float64(208.70540307251136), np.float64(209.76299812444552), np.float64(210.75776186897886), np.float64(211.7557347277475), np.float64(212.683410847114), np.float64(213.5534494349796), np.float64(214.61100935487445), np.float64(215.418229096095), np.float64(216.34916229693422), np.float64(217.09189988367874), np.float64(218.18053033445946), np.float64(219.18672592199596), np.float64(220.19752491152792), np.float64(221.32426183769795), np.float64(222.4338247670145), np.float64(223.3298678905005), np.float64(224.0728863228826), np.float64(224.90074506108195), np.float64(225.96576495265134), np.float64(226.96132346748908), np.float64(227.94376034458145), np.float64(228.94461442847197), np.float64(229.96546243504397), np.float64(230.99450089711476), np.float64(232.1498705443784), np.float64(233.1375244675458), np.float64(234.0936454010135), np.float64(235.18399281710563), np.float64(236.0291703795803), np.float64(237.15749799010686), np.float64(238.2049668258602), np.float64(239.08340906721094), np.float64(240.02355409070728), np.float64(240.98672669710686), np.float64(242.167521191159), np.float64(243.09822557811373), np.float64(243.98965427747038), np.float64(245.15731669193187), np.float64(245.99765008160296), np.float64(247.04900917094102), np.float64(248.0280871035832), np.float64(249.14349850283787), np.float64(250.06113299372464), np.float64(250.9614245958431), np.float64(252.05487114751023), np.float64(253.120960615312), np.float64(254.1956609435269), np.float64(255.1929917059882), np.float64(256.3524053606993), np.float64(257.4257084869003), np.float64(258.51287284147094), np.float64(259.4842651919936), np.float64(260.4822859116387), np.float64(261.57523949196315), np.float64(262.6070289578342), np.float64(263.57916939669343), np.float64(264.71175097814023), np.float64(265.78337961129307), np.float64(266.7869480788446), np.float64(267.66433365740994), np.float64(268.7759691442883), np.float64(269.88429992633115), np.float64(270.72693877658236), np.float64(271.78552640302405), np.float64(272.8138964692939), np.float64(273.866175337526), np.float64(274.76642999020686), np.float64(275.6880239813605), np.float64(276.50365908393513), np.float64(277.4907585515015), np.float64(278.54976521502834), np.float64(279.56034290913533), np.float64(280.6956116727696), np.float64(281.73774803496747), np.float64(282.80125750113183), np.float64(283.77739196518746), np.float64(284.83748363975894), np.float64(285.808485354741), np.float64(286.7999229889367), np.float64(287.73235116255955), np.float64(288.8824619798618), np.float64(289.97610011030633), np.float64(291.1768321897918), np.float64(292.3395880252855), np.float64(293.20043490247906), np.float64(294.19964381025494), np.float64(295.07712152967014), np.float64(296.0753781909474), np.float64(296.9726695291294), np.float64(297.89557668506575), np.float64(298.9482054809722), np.float64(299.70118510872777), np.float64(300.563028297528), np.float64(301.41612203658934), np.float64(302.2112833158752), np.float64(302.89474211898414), np.float64(303.4327665741651), np.float64(304.1058867018858), np.float64(304.70629710016317), np.float64(305.28546262028664), np.float64(306.1316484388636), np.float64(306.5860133147604), np.float64(307.11840512415125), np.float64(307.2704457964355), np.float64(307.5406757549439), np.float64(308.0219642030582), np.float64(308.2471283296226), np.float64(308.4857228049412), np.float64(308.5073210861726), np.float64(308.72099011708195), np.float64(308.9297371168077), np.float64(309.0564575994642), np.float64(309.132989790101), np.float64(309.0696371122977)]\n",
      "[array([-0.01230168]), array([0.04482089]), array([0.22607667]), array([0.3168927]), array([0.44055939]), array([0.48065621]), array([0.18828635]), array([0.16367858]), array([0.07117608]), array([0.12389637]), array([0.14819603]), array([0.20813885]), array([0.03999065]), array([-0.16329168]), array([-0.14720348]), array([-0.17635779]), array([-0.31845548]), array([-0.39380007]), array([-0.55613629]), array([-0.41763203]), array([-0.50484053]), array([-0.50277426]), array([-0.52999235]), array([-0.68994185]), array([-0.58324818]), array([-0.6847562]), array([-0.62262401]), array([-0.7420789]), array([-0.69902986]), array([-0.63728745]), array([-0.60984974]), array([-0.5820706]), array([-0.29227021]), array([-0.3503577]), array([-0.44993905]), array([-0.34258157]), array([-0.36417613]), array([-0.4265213]), array([-0.43717307]), array([-0.43106997]), array([-0.5341647]), array([-0.40180585]), array([-0.39828546]), array([-0.58144922]), array([-0.54718276]), array([-0.43403038]), array([-0.34166188]), array([-0.52556421]), array([-0.59610745]), array([-0.66877696]), array([-0.52814194]), array([-0.57656491]), array([-0.47883539]), array([-0.42937704]), array([-0.42771238]), array([-0.46601778]), array([-0.56593115]), array([-0.51802403]), array([-0.57955377]), array([-0.46652284]), array([-0.46174297]), array([-0.48378162]), array([-0.5342438]), array([-0.37972982]), array([-0.51165479]), array([-0.67885655]), array([-0.67795087]), array([-0.6323466]), array([-0.58744051]), array([-0.75951397]), array([-0.71938454]), array([-0.73287656]), array([-0.74257576]), array([-0.6837597]), array([-0.56610823]), array([-0.52434323]), array([-0.53941246]), array([-0.67508861]), array([-1.01141178]), array([-1.07899475]), array([-0.98951862]), array([-1.23952847]), array([-1.32555465]), array([-1.25057153]), array([-1.19247113]), array([-1.30386393]), array([-1.17586072]), array([-1.36056858]), array([-1.43744556]), array([-1.52394221]), array([-1.68974991]), array([-1.674852]), array([-1.825149]), array([-1.99832764]), array([-1.99869189]), array([-1.85767136]), array([-1.82353608]), array([-1.90139806]), array([-1.98021846]), array([-2.18623739]), array([-2.24891227]), array([-2.33066982]), array([-2.38143531]), array([-2.29687277]), array([-2.34461267]), array([-2.6188338]), array([-2.63166815]), array([-2.53103801]), array([-2.67977791]), array([-2.82402228]), array([-2.75234216]), array([-2.89940989]), array([-2.96813861]), array([-3.0702354]), array([-3.02591857]), array([-2.83506951]), array([-2.79910236]), array([-2.75771804]), array([-2.73631664]), array([-2.70561795]), array([-2.78609614]), array([-2.82720503]), array([-3.07383919]), array([-3.23331083]), array([-3.24659596]), array([-3.2786289]), array([-3.19257191]), array([-3.13978815]), array([-3.08887038]), array([-3.28092246]), array([-3.03324213]), array([-3.03058717]), array([-3.03812767]), array([-2.84267739]), array([-2.77058438]), array([-2.74314258]), array([-2.78312448]), array([-2.75202721]), array([-2.71061133]), array([-2.77773871]), array([-2.79237937]), array([-2.60732721]), array([-2.56253662]), array([-2.70958988]), array([-2.74131702]), array([-2.73414899]), array([-2.81415145]), array([-2.76329804]), array([-2.86739694]), array([-2.98732635]), array([-3.04629216]), array([-3.17168168]), array([-3.02016447]), array([-3.18663815]), array([-3.10602144]), array([-3.07360787]), array([-2.93666638]), array([-2.91487027]), array([-2.86779644]), array([-2.77995374]), array([-2.69476033]), array([-2.71106074]), array([-2.78236195]), array([-2.85133461]), array([-2.76483441]), array([-2.83746516]), array([-2.62539401]), array([-2.68098745]), array([-2.6606633]), array([-2.90297131]), array([-2.77155757]), array([-2.8487927]), array([-2.93119265]), array([-3.02438545]), array([-3.00406366]), array([-2.95660802]), array([-2.96916973]), array([-3.20837669]), array([-3.01752912]), array([-3.09129089]), array([-3.05172052]), array([-2.94809319]), array([-2.95895927]), array([-2.59206136]), array([-2.54940207]), array([-2.60315377]), array([-2.57994595]), array([-2.62561489]), array([-2.53319645]), array([-2.63935625]), array([-2.64864786]), array([-2.62360163]), array([-2.51167332]), array([-2.58605751]), array([-2.74143909]), array([-2.77635608]), array([-2.59694801]), array([-2.69763514]), array([-2.59217776]), array([-2.72726014]), array([-2.92984312]), array([-2.88550742]), array([-2.64978321]), array([-2.4426516]), array([-2.48704356]), array([-2.53174816]), array([-2.80865323]), array([-2.85232637]), array([-2.65793548]), array([-2.57428399]), array([-2.44896404]), array([-2.32253562]), array([-2.07383145]), array([-2.22657034]), array([-2.31778017]), array([-2.17725284]), array([-2.0910981]), array([-1.93653366]), array([-1.96601897]), array([-1.79170853]), array([-1.62598915]), array([-1.17147787]), array([-1.22072923]), array([-1.26811652]), array([-1.18509276]), array([-1.35405433]), array([-1.31803883]), array([-1.05780523]), array([-0.7760397]), array([-0.63312802]), array([-0.43599538]), array([-0.19739394]), array([-0.21998595]), array([-0.26099442]), array([-0.10811644]), array([0.02900621]), array([-0.23283258]), array([-0.14677175]), array([0.00491547]), array([-0.08280505]), array([0.0974573]), array([0.00715142]), array([0.0915012]), array([0.1258223]), array([0.08657418]), array([0.16329496]), array([-0.01233767]), array([0.25013092]), array([0.44049883]), array([0.20957283]), array([0.49410129]), array([0.45520713]), array([0.52436413]), array([0.5284174]), array([0.6328043]), array([0.74798405]), array([0.70965946]), array([0.75373012]), array([0.79494622]), array([0.80874616]), array([0.71107977]), array([0.61363169]), array([0.54602256]), array([0.64871678]), array([0.53321316]), array([0.46594873]), array([0.24757501]), array([0.28251481]), array([0.34320409]), array([0.32199593]), array([0.40022603]), array([0.62389617]), array([0.50577803]), array([0.30620365]), array([0.60733073]), array([0.66265945]), array([0.65505967]), array([0.67692394]), array([0.8567516]), array([0.95159229]), array([1.11056875]), array([1.0871303]), array([0.91667211]), array([1.01017479]), array([0.87991338]), array([0.79475212]), array([0.86216523]), array([0.8839912]), array([0.77625106]), array([0.97687521]), array([1.07312589]), array([1.04820141]), array([1.09922396]), array([1.02835957]), array([0.81441603]), array([0.59135124]), array([0.91638392]), array([1.02282241]), array([1.27917044]), array([1.23557102]), array([1.50207111]), array([1.67888433]), array([1.73653803]), array([2.05798014]), array([2.05295826]), array([2.04064129]), array([2.17712349]), array([2.28454673]), array([2.63781779]), array([2.856456]), array([2.87129989]), array([2.83341992]), array([2.41572274]), array([2.55202695]), array([2.54241319]), array([3.01315403]), array([3.16644089]), array([2.93651986]), array([2.89044195]), array([2.91455577]), array([3.12147324]), array([3.20710608]), array([3.30104933]), array([3.36016732]), array([3.33996368]), array([3.42266286])]\n"
     ]
    }
   ],
   "source": [
    "# estimated x,v \n",
    "sig_x = 0.1 \n",
    "sig_v = 0.5\n",
    "sig_s = 0.01\n",
    "time_step = 0.01\n",
    "N = 326\n",
    "v_sound = 3000\n",
    "time = [(0.01*i-tol) for i in range(0,326)]\n",
    "\n",
    "mu_0 = np.transpose(np.array([0,0]))\n",
    "mu_0 = mu_0[:,np.newaxis]\n",
    "sigma_0 = 1e-4*np.array([[1,0],[0,1]])\n",
    " \n",
    "R = np.array([[sig_x**2,0],[0,sig_v**2]])\n",
    "Q = np.array([[sig_s**2]])\n",
    "\n",
    "A_t = np.array([[1,time_step],[0,1]]) \n",
    "B_t = np.transpose(np.array([0.5*time_step**2,time_step]))\n",
    "B_t = B_t[:,np.newaxis]\n",
    "\n",
    "C_t = np.array([[2/v_sound,0]]) \n",
    "\n",
    "\n",
    "def kalman_filter(mu_prev,sigma_prev,u_t,z_t):\n",
    "\n",
    "    mu_t = A_t@mu_prev + B_t@u_t \n",
    "    sigma_t = A_t@sigma_prev + R \n",
    "    \n",
    "    K_t = sigma_t@np.transpose(C_t)@np.linalg.inv((C_t@sigma_t@np.transpose(C_t)+Q))\n",
    "    mu_t = mu_t + K_t@(z_t-C_t@mu_t)\n",
    "    sigma_t = (np.array([[1,0],[0,1]])-K_t@C_t)@sigma_t\n",
    "    return mu_t,sigma_t,K_t\n",
    "\n",
    "from numpy.random import multivariate_normal \n",
    "print(mu_0)\n",
    "print(np.transpose(mu_0))\n",
    "state_t = [np.transpose(np.array(multivariate_normal(np.transpose(mu_0)[0],sigma_0,1)))]\n",
    "for t in time[1:]:\n",
    "    noise_sample = np.transpose(np.array(multivariate_normal(np.array([0,0]),R,1)[0]))\n",
    "    noise_sample = noise_sample[:,np.newaxis]\n",
    "    state_t.append(A_t@state_t[-1]+B_t@np.array([[u(t)]])+noise_sample)\n",
    "  \n",
    "\n",
    "z_t = [(C_t@state_t[i]+multivariate_normal([0],Q,1)[0]) for i in range(len(time))]\n",
    "K_t = []\n",
    "mu_t = [mu_0]\n",
    "sigma_t = [sigma_0]\n",
    "\n",
    "\n",
    "for i,t in enumerate(time):\n",
    "    mu,sigma,K = kalman_filter(mu_t[-1],sigma_t[-1],np.array([[u(t)]]),z_t[i]) \n",
    "    K_t.append(K)\n",
    "    mu_t.append(mu)\n",
    "    sigma_t.append(sigma) \n",
    "\n",
    "\n",
    "\n",
    "    \n",
    "    \n",
    "x_est = [mu[0][0] for mu in mu_t]\n",
    "v_est = [mu[1][0] for mu in mu_t]   \n",
    "x_est = x_est[:-1]\n",
    "v_est= v_est[:-1] \n",
    "x_true = [state_t[i][0][0] for i in range(len(time))]\n",
    "v_true = [state_t[i][1][0] for i in range(len(time))]\n",
    "# print(x_true)\n",
    "print(x_est)\n",
    "print(x_true)\n",
    "diff = [x_est[i]-state_t[i][0] for i in range(len(time))]\n",
    "print(diff)\n",
    "    \n",
    "    \n",
    "    \n"
   ]
  },
  {
   "cell_type": "code",
   "execution_count": 69,
   "metadata": {},
   "outputs": [
    {
     "name": "stdout",
     "output_type": "stream",
     "text": [
      "326\n",
      "326\n"
     ]
    },
    {
     "data": {
      "application/vnd.plotly.v1+json": {
       "config": {
        "plotlyServerURL": "https://plot.ly"
       },
       "data": [
        {
         "hovertemplate": "x=%{x}<br>y=%{y}<extra></extra>",
         "legendgroup": "",
         "marker": {
          "color": "#636efa",
          "symbol": "circle"
         },
         "mode": "markers",
         "name": "",
         "orientation": "v",
         "showlegend": false,
         "type": "scatter",
         "x": {
          "bdata": "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",
          "dtype": "f8"
         },
         "xaxis": "x",
         "y": {
          "bdata": "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",
          "dtype": "f8"
         },
         "yaxis": "y"
        },
        {
         "marker": {
          "color": "blue"
         },
         "type": "scatter",
         "x": [
          -1e-12,
          0.009999999999,
          0.019999999999,
          0.029999999999,
          0.039999999999,
          0.049999999999000004,
          0.059999999999,
          0.069999999999,
          0.079999999999,
          0.08999999999899999,
          0.099999999999,
          0.109999999999,
          0.11999999999899999,
          0.129999999999,
          0.139999999999,
          0.149999999999,
          0.159999999999,
          0.169999999999,
          0.179999999999,
          0.189999999999,
          0.199999999999,
          0.209999999999,
          0.219999999999,
          0.229999999999,
          0.23999999999899999,
          0.249999999999,
          0.25999999999900003,
          0.26999999999900004,
          0.27999999999900005,
          0.289999999999,
          0.299999999999,
          0.309999999999,
          0.31999999999900003,
          0.32999999999900004,
          0.33999999999900005,
          0.34999999999900006,
          0.359999999999,
          0.369999999999,
          0.379999999999,
          0.38999999999900004,
          0.39999999999900004,
          0.40999999999900005,
          0.419999999999,
          0.429999999999,
          0.439999999999,
          0.44999999999900003,
          0.45999999999900004,
          0.46999999999900005,
          0.479999999999,
          0.489999999999,
          0.499999999999,
          0.509999999999,
          0.519999999999,
          0.529999999999,
          0.5399999999990001,
          0.5499999999990001,
          0.5599999999990001,
          0.5699999999990001,
          0.579999999999,
          0.589999999999,
          0.599999999999,
          0.609999999999,
          0.619999999999,
          0.629999999999,
          0.639999999999,
          0.649999999999,
          0.659999999999,
          0.6699999999990001,
          0.6799999999990001,
          0.6899999999990001,
          0.6999999999990001,
          0.709999999999,
          0.719999999999,
          0.729999999999,
          0.739999999999,
          0.749999999999,
          0.759999999999,
          0.769999999999,
          0.779999999999,
          0.7899999999990001,
          0.7999999999990001,
          0.8099999999990001,
          0.8199999999990001,
          0.8299999999990001,
          0.839999999999,
          0.849999999999,
          0.859999999999,
          0.869999999999,
          0.879999999999,
          0.889999999999,
          0.899999999999,
          0.909999999999,
          0.9199999999990001,
          0.9299999999990001,
          0.9399999999990001,
          0.9499999999990001,
          0.959999999999,
          0.969999999999,
          0.979999999999,
          0.989999999999,
          0.999999999999,
          1.009999999999,
          1.019999999999,
          1.029999999999,
          1.039999999999,
          1.049999999999,
          1.059999999999,
          1.069999999999,
          1.079999999999,
          1.089999999999,
          1.099999999999,
          1.109999999999,
          1.119999999999,
          1.129999999999,
          1.139999999999,
          1.149999999999,
          1.1599999999989998,
          1.1699999999989998,
          1.1799999999989998,
          1.1899999999989999,
          1.1999999999989999,
          1.2099999999989999,
          1.2199999999989999,
          1.229999999999,
          1.239999999999,
          1.249999999999,
          1.259999999999,
          1.269999999999,
          1.279999999999,
          1.289999999999,
          1.299999999999,
          1.309999999999,
          1.319999999999,
          1.329999999999,
          1.339999999999,
          1.349999999999,
          1.359999999999,
          1.369999999999,
          1.379999999999,
          1.389999999999,
          1.399999999999,
          1.4099999999989998,
          1.4199999999989998,
          1.4299999999989998,
          1.4399999999989999,
          1.4499999999989999,
          1.4599999999989999,
          1.4699999999989999,
          1.479999999999,
          1.489999999999,
          1.499999999999,
          1.509999999999,
          1.519999999999,
          1.529999999999,
          1.539999999999,
          1.549999999999,
          1.559999999999,
          1.569999999999,
          1.579999999999,
          1.589999999999,
          1.599999999999,
          1.609999999999,
          1.619999999999,
          1.629999999999,
          1.639999999999,
          1.649999999999,
          1.659999999999,
          1.6699999999989998,
          1.6799999999989998,
          1.6899999999989999,
          1.6999999999989999,
          1.7099999999989999,
          1.7199999999989999,
          1.729999999999,
          1.739999999999,
          1.749999999999,
          1.759999999999,
          1.769999999999,
          1.779999999999,
          1.789999999999,
          1.799999999999,
          1.809999999999,
          1.819999999999,
          1.829999999999,
          1.839999999999,
          1.849999999999,
          1.859999999999,
          1.869999999999,
          1.879999999999,
          1.889999999999,
          1.899999999999,
          1.909999999999,
          1.9199999999989998,
          1.9299999999989998,
          1.9399999999989999,
          1.9499999999989999,
          1.9599999999989999,
          1.9699999999989999,
          1.979999999999,
          1.989999999999,
          1.999999999999,
          2.009999999999,
          2.019999999999,
          2.029999999999,
          2.039999999999,
          2.0499999999989997,
          2.059999999999,
          2.0699999999989998,
          2.079999999999,
          2.0899999999989998,
          2.099999999999,
          2.109999999999,
          2.119999999999,
          2.129999999999,
          2.139999999999,
          2.149999999999,
          2.159999999999,
          2.169999999999,
          2.179999999999,
          2.189999999999,
          2.199999999999,
          2.209999999999,
          2.219999999999,
          2.229999999999,
          2.239999999999,
          2.249999999999,
          2.259999999999,
          2.269999999999,
          2.279999999999,
          2.289999999999,
          2.299999999999,
          2.309999999999,
          2.3199999999989998,
          2.329999999999,
          2.3399999999989998,
          2.349999999999,
          2.359999999999,
          2.369999999999,
          2.379999999999,
          2.389999999999,
          2.399999999999,
          2.409999999999,
          2.419999999999,
          2.429999999999,
          2.439999999999,
          2.449999999999,
          2.459999999999,
          2.469999999999,
          2.479999999999,
          2.489999999999,
          2.499999999999,
          2.509999999999,
          2.519999999999,
          2.529999999999,
          2.539999999999,
          2.549999999999,
          2.559999999999,
          2.5699999999989998,
          2.579999999999,
          2.5899999999989998,
          2.599999999999,
          2.609999999999,
          2.619999999999,
          2.629999999999,
          2.639999999999,
          2.649999999999,
          2.659999999999,
          2.669999999999,
          2.679999999999,
          2.689999999999,
          2.699999999999,
          2.709999999999,
          2.719999999999,
          2.729999999999,
          2.739999999999,
          2.749999999999,
          2.759999999999,
          2.769999999999,
          2.779999999999,
          2.789999999999,
          2.799999999999,
          2.809999999999,
          2.8199999999989998,
          2.829999999999,
          2.8399999999989998,
          2.849999999999,
          2.859999999999,
          2.869999999999,
          2.879999999999,
          2.889999999999,
          2.899999999999,
          2.909999999999,
          2.919999999999,
          2.929999999999,
          2.939999999999,
          2.949999999999,
          2.959999999999,
          2.969999999999,
          2.979999999999,
          2.989999999999,
          2.999999999999,
          3.009999999999,
          3.019999999999,
          3.029999999999,
          3.039999999999,
          3.049999999999,
          3.059999999999,
          3.069999999999,
          3.079999999999,
          3.0899999999989998,
          3.099999999999,
          3.109999999999,
          3.119999999999,
          3.129999999999,
          3.139999999999,
          3.149999999999,
          3.159999999999,
          3.169999999999,
          3.179999999999,
          3.189999999999,
          3.199999999999,
          3.209999999999,
          3.219999999999,
          3.229999999999,
          3.239999999999,
          3.249999999999
         ],
         "y": [
          0.006561139341386808,
          4.264282668979055,
          9.599175874083087,
          13.877517657535563,
          18.01044001943059,
          21.605355714416433,
          25.505881714227144,
          29.17506926477496,
          33.36072983163346,
          37.42754153861461,
          42.060746102431494,
          46.482584109989595,
          50.0031138132737,
          53.78628253040386,
          57.578214750804,
          62.40141855376816,
          65.89135597838433,
          70.24495372345018,
          73.95721562996451,
          78.39966755733532,
          83.25063493954246,
          86.6355648498035,
          91.10810559893581,
          95.80890110655073,
          98.8297845644083,
          102.25153999481182,
          102.25148341056337,
          101.63293899260601,
          102.13485592953013,
          101.69362980012608,
          102.07168402059658,
          102.83044774010307,
          103.22124356132889,
          103.19733634897526,
          102.52399055611819,
          101.89346924353994,
          102.01749152689621,
          101.62226042373238,
          101.31809405951681,
          101.70082352041403,
          101.70028951403961,
          102.86900656873603,
          102.91877125796316,
          103.34117492889378,
          102.95141349087703,
          103.16132410522651,
          103.45812343265956,
          104.6675081864489,
          105.16224440346856,
          104.24393455375197,
          104.46141598628768,
          104.246553479265,
          104.56855449618128,
          104.43201591253572,
          104.58174131649103,
          104.70744047142105,
          104.71161339461348,
          104.00065446864839,
          104.73140951005776,
          106.19617393391012,
          106.11087468199588,
          105.49310322817146,
          105.37816090574877,
          106.16864985890578,
          106.02768949935101,
          106.45464899699674,
          106.03535278428795,
          106.03538924249085,
          105.77807075453663,
          105.71823970056764,
          105.35539276657573,
          104.89561430482367,
          105.3613481078513,
          105.40710059811761,
          105.32489504204632,
          105.17892983931803,
          106.22312724469931,
          106.84036747062382,
          107.31650307862645,
          107.27660959792735,
          107.7213050625907,
          108.23727698118195,
          108.46761895023576,
          108.21078026092668,
          108.15922517733195,
          107.94413422466296,
          108.96760711231217,
          109.13647244434077,
          109.07899664233133,
          109.24741550988993,
          109.13248689184164,
          109.22971572532542,
          107.87391057489268,
          107.59119152654868,
          107.958662632831,
          108.57486795215748,
          108.6299609542697,
          108.66314002926357,
          109.01221564221574,
          108.63093119531841,
          109.31092592493336,
          108.87882313291679,
          108.3284617484276,
          108.4909884888662,
          108.85726891753428,
          108.40858223949891,
          108.26024545513629,
          108.1908393342158,
          107.99870867087112,
          107.89981252580522,
          107.0461724222608,
          107.85721967893181,
          107.7703378957117,
          107.12910806266609,
          107.03562729078726,
          107.51105070199252,
          106.84153029946384,
          106.49941976721144,
          106.71161782339792,
          105.8990265644274,
          105.08361608141648,
          103.90143142837896,
          103.81774011190723,
          105.34434829082356,
          104.76434725579189,
          105.04771037352974,
          104.82005735258738,
          104.40437436427773,
          104.79277659116096,
          104.38836978546976,
          103.96221787763584,
          103.58428323967328,
          104.31327055050073,
          104.17418420056083,
          104.39248551397849,
          104.40205720913875,
          104.39113714901023,
          104.54148258583653,
          104.76569016586534,
          104.02095323707076,
          104.02698757569335,
          104.57780535177925,
          104.50098850587085,
          105.2176247987017,
          104.18816948668724,
          103.22780380704381,
          104.07787604528825,
          104.31697212764637,
          104.51633975024515,
          104.24113805900612,
          102.63577095689227,
          102.53277819242534,
          102.65384115689059,
          101.74135273401535,
          102.34555342531023,
          102.39637530745024,
          102.38141369129492,
          103.57325401402153,
          101.8967665377287,
          101.73334402764536,
          101.92471523935339,
          102.20986791656921,
          102.04974430817431,
          102.11560198664412,
          101.76687403450754,
          102.0091328068913,
          101.53170977769183,
          101.67373326590422,
          101.90290488202946,
          102.65564713503545,
          102.06370527887152,
          101.6087293365945,
          100.89958399342139,
          100.74158960439259,
          101.4704078079223,
          101.97246560286328,
          102.0537754651674,
          102.05075360817288,
          101.84065771707483,
          102.45842417518853,
          102.41041911896427,
          102.66971017682617,
          102.36063539916161,
          101.57607095333984,
          101.61625697308715,
          101.71732556428178,
          101.89942346412877,
          101.7998322883716,
          102.28731205589924,
          102.31862776572947,
          102.00358466804589,
          100.96667149699427,
          101.02670303123406,
          100.55151159626584,
          99.54368031318357,
          99.94081116006912,
          100.38154811933755,
          99.81408317051017,
          99.93272762058376,
          99.97788357403206,
          99.25464586231392,
          99.18452459406886,
          98.78764218360405,
          99.17634056793032,
          99.92681740952746,
          99.2171399141062,
          98.65390804029052,
          97.84632353638305,
          97.75460573726804,
          96.57845294483056,
          96.84185821935036,
          96.54073023631378,
          96.26555707652452,
          96.76411515840857,
          96.59264283163049,
          96.09555628125106,
          96.27502687366999,
          97.6079940674753,
          97.68991273758063,
          98.02998608995716,
          98.01253618970442,
          99.2542374844488,
          99.05568059402314,
          98.94654828730174,
          99.70171335912202,
          99.75593688757709,
          99.93675890859852,
          99.18394225002363,
          98.3010115034167,
          98.28098391992638,
          98.93896924514068,
          99.2302205544441,
          99.13840327272533,
          99.0749747913347,
          99.59294951684606,
          99.74546615634003,
          101.13095863507598,
          101.22124314621054,
          101.35484442849385,
          101.11797922926912,
          101.98297686359277,
          101.64838388514761,
          101.67679098339487,
          101.9674497196793,
          102.20206335703355,
          102.65156764577434,
          102.92812617534597,
          102.36818783992886,
          101.54714519861875,
          102.52057670325594,
          102.29076695465065,
          101.64415247783766,
          102.12882243971886,
          102.12422681604231,
          102.10840783877788,
          102.2315675550041,
          102.24040602471717,
          102.29368086167781,
          100.68893812927854,
          99.58280583361864,
          99.53792801841102,
          99.56387771149096,
          99.42851787943283,
          100.71939346777306,
          100.91631096058525,
          101.05392506738094,
          100.83795385008199,
          100.82338401134095,
          101.3385464746604,
          101.38589712701832,
          100.9444228970998,
          102.11672128696163,
          101.70840500679151,
          100.39921591731584,
          100.77704416888548,
          100.40621465691581,
          100.53647612783375,
          100.44125687782214,
          100.36299658402758,
          100.83513680116593,
          101.04696690072988,
          101.17453824018477,
          101.4112391548744,
          101.25326853856939,
          101.55251007878076,
          101.85207164101017,
          102.22442099238485,
          102.12252407278433,
          101.56725044453229,
          101.70747033234105,
          101.05918862086084,
          100.37516937807071,
          100.45789515286394,
          100.3392929150864,
          99.75978632832026,
          99.2018586900661,
          99.52289056750725,
          99.11681060303307,
          97.83881086914127,
          96.95749454864097,
          97.37541422710311,
          93.29957438166056,
          88.68680386930073,
          84.95721459230843,
          80.8755957293589,
          76.06274223713766,
          72.73579784347032,
          69.22708554961812,
          65.33242263374318,
          61.604894358675296,
          58.089018332440844,
          54.75367508349386,
          50.726051067232284,
          46.744990753081055,
          42.57706835815387,
          38.34535047948067,
          34.6716182758439,
          29.80400458676364,
          26.072934812858783,
          21.98791697994455,
          17.41163420094751,
          13.152735145364638,
          9.31566382087294,
          4.990022239051645,
          1.9212487655244015,
          -2.499288990017598
         ]
        },
        {
         "marker": {
          "color": "green"
         },
         "type": "scatter",
         "x": [
          -1e-12,
          0.009999999999,
          0.019999999999,
          0.029999999999,
          0.039999999999,
          0.049999999999000004,
          0.059999999999,
          0.069999999999,
          0.079999999999,
          0.08999999999899999,
          0.099999999999,
          0.109999999999,
          0.11999999999899999,
          0.129999999999,
          0.139999999999,
          0.149999999999,
          0.159999999999,
          0.169999999999,
          0.179999999999,
          0.189999999999,
          0.199999999999,
          0.209999999999,
          0.219999999999,
          0.229999999999,
          0.23999999999899999,
          0.249999999999,
          0.25999999999900003,
          0.26999999999900004,
          0.27999999999900005,
          0.289999999999,
          0.299999999999,
          0.309999999999,
          0.31999999999900003,
          0.32999999999900004,
          0.33999999999900005,
          0.34999999999900006,
          0.359999999999,
          0.369999999999,
          0.379999999999,
          0.38999999999900004,
          0.39999999999900004,
          0.40999999999900005,
          0.419999999999,
          0.429999999999,
          0.439999999999,
          0.44999999999900003,
          0.45999999999900004,
          0.46999999999900005,
          0.479999999999,
          0.489999999999,
          0.499999999999,
          0.509999999999,
          0.519999999999,
          0.529999999999,
          0.5399999999990001,
          0.5499999999990001,
          0.5599999999990001,
          0.5699999999990001,
          0.579999999999,
          0.589999999999,
          0.599999999999,
          0.609999999999,
          0.619999999999,
          0.629999999999,
          0.639999999999,
          0.649999999999,
          0.659999999999,
          0.6699999999990001,
          0.6799999999990001,
          0.6899999999990001,
          0.6999999999990001,
          0.709999999999,
          0.719999999999,
          0.729999999999,
          0.739999999999,
          0.749999999999,
          0.759999999999,
          0.769999999999,
          0.779999999999,
          0.7899999999990001,
          0.7999999999990001,
          0.8099999999990001,
          0.8199999999990001,
          0.8299999999990001,
          0.839999999999,
          0.849999999999,
          0.859999999999,
          0.869999999999,
          0.879999999999,
          0.889999999999,
          0.899999999999,
          0.909999999999,
          0.9199999999990001,
          0.9299999999990001,
          0.9399999999990001,
          0.9499999999990001,
          0.959999999999,
          0.969999999999,
          0.979999999999,
          0.989999999999,
          0.999999999999,
          1.009999999999,
          1.019999999999,
          1.029999999999,
          1.039999999999,
          1.049999999999,
          1.059999999999,
          1.069999999999,
          1.079999999999,
          1.089999999999,
          1.099999999999,
          1.109999999999,
          1.119999999999,
          1.129999999999,
          1.139999999999,
          1.149999999999,
          1.1599999999989998,
          1.1699999999989998,
          1.1799999999989998,
          1.1899999999989999,
          1.1999999999989999,
          1.2099999999989999,
          1.2199999999989999,
          1.229999999999,
          1.239999999999,
          1.249999999999,
          1.259999999999,
          1.269999999999,
          1.279999999999,
          1.289999999999,
          1.299999999999,
          1.309999999999,
          1.319999999999,
          1.329999999999,
          1.339999999999,
          1.349999999999,
          1.359999999999,
          1.369999999999,
          1.379999999999,
          1.389999999999,
          1.399999999999,
          1.4099999999989998,
          1.4199999999989998,
          1.4299999999989998,
          1.4399999999989999,
          1.4499999999989999,
          1.4599999999989999,
          1.4699999999989999,
          1.479999999999,
          1.489999999999,
          1.499999999999,
          1.509999999999,
          1.519999999999,
          1.529999999999,
          1.539999999999,
          1.549999999999,
          1.559999999999,
          1.569999999999,
          1.579999999999,
          1.589999999999,
          1.599999999999,
          1.609999999999,
          1.619999999999,
          1.629999999999,
          1.639999999999,
          1.649999999999,
          1.659999999999,
          1.6699999999989998,
          1.6799999999989998,
          1.6899999999989999,
          1.6999999999989999,
          1.7099999999989999,
          1.7199999999989999,
          1.729999999999,
          1.739999999999,
          1.749999999999,
          1.759999999999,
          1.769999999999,
          1.779999999999,
          1.789999999999,
          1.799999999999,
          1.809999999999,
          1.819999999999,
          1.829999999999,
          1.839999999999,
          1.849999999999,
          1.859999999999,
          1.869999999999,
          1.879999999999,
          1.889999999999,
          1.899999999999,
          1.909999999999,
          1.9199999999989998,
          1.9299999999989998,
          1.9399999999989999,
          1.9499999999989999,
          1.9599999999989999,
          1.9699999999989999,
          1.979999999999,
          1.989999999999,
          1.999999999999,
          2.009999999999,
          2.019999999999,
          2.029999999999,
          2.039999999999,
          2.0499999999989997,
          2.059999999999,
          2.0699999999989998,
          2.079999999999,
          2.0899999999989998,
          2.099999999999,
          2.109999999999,
          2.119999999999,
          2.129999999999,
          2.139999999999,
          2.149999999999,
          2.159999999999,
          2.169999999999,
          2.179999999999,
          2.189999999999,
          2.199999999999,
          2.209999999999,
          2.219999999999,
          2.229999999999,
          2.239999999999,
          2.249999999999,
          2.259999999999,
          2.269999999999,
          2.279999999999,
          2.289999999999,
          2.299999999999,
          2.309999999999,
          2.3199999999989998,
          2.329999999999,
          2.3399999999989998,
          2.349999999999,
          2.359999999999,
          2.369999999999,
          2.379999999999,
          2.389999999999,
          2.399999999999,
          2.409999999999,
          2.419999999999,
          2.429999999999,
          2.439999999999,
          2.449999999999,
          2.459999999999,
          2.469999999999,
          2.479999999999,
          2.489999999999,
          2.499999999999,
          2.509999999999,
          2.519999999999,
          2.529999999999,
          2.539999999999,
          2.549999999999,
          2.559999999999,
          2.5699999999989998,
          2.579999999999,
          2.5899999999989998,
          2.599999999999,
          2.609999999999,
          2.619999999999,
          2.629999999999,
          2.639999999999,
          2.649999999999,
          2.659999999999,
          2.669999999999,
          2.679999999999,
          2.689999999999,
          2.699999999999,
          2.709999999999,
          2.719999999999,
          2.729999999999,
          2.739999999999,
          2.749999999999,
          2.759999999999,
          2.769999999999,
          2.779999999999,
          2.789999999999,
          2.799999999999,
          2.809999999999,
          2.8199999999989998,
          2.829999999999,
          2.8399999999989998,
          2.849999999999,
          2.859999999999,
          2.869999999999,
          2.879999999999,
          2.889999999999,
          2.899999999999,
          2.909999999999,
          2.919999999999,
          2.929999999999,
          2.939999999999,
          2.949999999999,
          2.959999999999,
          2.969999999999,
          2.979999999999,
          2.989999999999,
          2.999999999999,
          3.009999999999,
          3.019999999999,
          3.029999999999,
          3.039999999999,
          3.049999999999,
          3.059999999999,
          3.069999999999,
          3.079999999999,
          3.0899999999989998,
          3.099999999999,
          3.109999999999,
          3.119999999999,
          3.129999999999,
          3.139999999999,
          3.149999999999,
          3.159999999999,
          3.169999999999,
          3.179999999999,
          3.189999999999,
          3.199999999999,
          3.209999999999,
          3.219999999999,
          3.229999999999,
          3.239999999999,
          3.249999999999
         ],
         "y": [
          0,
          0.019971547714097728,
          0.07982734133440983,
          0.17913198018892562,
          0.3165386776007145,
          0.49743684657723014,
          0.7165486591000556,
          0.9776239087730505,
          1.2825865362879778,
          1.6266025188407756,
          2.0062954049185326,
          2.4330182065494528,
          2.8857460045011174,
          3.393423091883782,
          3.927745818449974,
          4.511801896448669,
          5.12489491216633,
          5.8098462861385025,
          6.494072797360416,
          7.232928376029798,
          8.003681493792383,
          8.826839983452222,
          9.668899204697246,
          10.565380524877394,
          11.497655524954762,
          12.451264457399638,
          13.464922979018048,
          14.507459706634569,
          15.58153533773996,
          16.61381360574821,
          17.620327049129262,
          18.660026294438286,
          19.69380752162405,
          20.733110864579437,
          21.78483767049497,
          22.810548352889317,
          23.845171183627745,
          24.846994990516716,
          25.888993430558575,
          26.898052214578932,
          27.949954228020196,
          29.008501005242294,
          30.036763474221715,
          31.028310777633216,
          32.08247828647984,
          33.14751835196077,
          34.212005236980545,
          35.29981185559572,
          36.34610809844157,
          37.388523575163426,
          38.445522293569994,
          39.49614932683107,
          40.529052835863624,
          41.51772480260691,
          42.54265471040764,
          43.57790766858471,
          44.65161747486414,
          45.65554438979469,
          46.73211985012621,
          47.829733866507944,
          48.90452937645876,
          49.92316831888665,
          50.98414615426499,
          51.99359264817707,
          52.94351330727781,
          54.015235073357246,
          55.05163744031649,
          56.10110720777951,
          57.163512507047805,
          58.17358814915784,
          59.233878143687946,
          60.26679569977264,
          61.351521136094995,
          62.394575656050634,
          63.491345237068074,
          64.54957283751232,
          65.5988558378365,
          66.6208945146208,
          67.56760006136514,
          68.63278667018169,
          69.694067601763,
          70.64390029831927,
          71.61028036761282,
          72.76470483511224,
          73.79101547822002,
          74.80469008328727,
          75.87982790069894,
          76.97497416153168,
          78.04447380723272,
          79.06122107121465,
          80.05386685921204,
          81.0452035022226,
          82.14156011059097,
          83.1102904603854,
          84.11783007161291,
          85.1817798186169,
          86.28332074199503,
          87.2980075062414,
          88.32185284717825,
          89.3542371196859,
          90.4450359099239,
          91.46584415970618,
          92.56235431827696,
          93.65879858944764,
          94.75584460909657,
          95.74928948379149,
          96.78419846996677,
          97.89453941333811,
          98.90707426219153,
          99.90619961383105,
          100.91793781842652,
          101.94172820496027,
          102.87118312848736,
          103.97381384867306,
          105.05884059269688,
          106.2152215619184,
          107.25799779753952,
          108.15677618111661,
          109.37814495864028,
          110.49853328439427,
          111.51131799195974,
          112.5090837113377,
          113.59458534149061,
          114.58472652004009,
          115.56091788508239,
          116.56613941838668,
          117.59405256215896,
          118.56967490048856,
          119.59825278235608,
          120.57897791741043,
          121.68479444582773,
          122.6791619154795,
          123.67606537971623,
          124.75559272808543,
          125.84057411415813,
          126.90917031964544,
          127.93626781308916,
          129.08207090853475,
          130.10334682621456,
          131.20509988654715,
          132.27388398878534,
          133.45281716905438,
          134.51695076207798,
          135.4194804673578,
          136.38616606330586,
          137.44419781960283,
          138.35283863263328,
          139.37223971174024,
          140.35357788279006,
          141.27944073357745,
          142.33617817576706,
          143.31896695778983,
          144.3811375172882,
          145.3465006378411,
          146.48971141865138,
          147.52037224240055,
          148.64002466277958,
          149.59995581523629,
          150.53985337277808,
          151.59424576538154,
          152.68195458210195,
          153.7029113087928,
          154.63083628205402,
          155.7332917364759,
          156.84800494003358,
          157.80654599631572,
          158.94107509316635,
          160.01201516097748,
          161.0081636400715,
          162.04332805169537,
          163.13388357258236,
          164.07006255204942,
          165.15270747866253,
          166.19864876572495,
          167.2717694077256,
          168.29109670727394,
          169.2234705043745,
          170.20934985292138,
          171.2748914082674,
          172.29926842244905,
          173.4649177636078,
          174.55450228303,
          175.49078260097113,
          176.67275907082362,
          177.65225747754067,
          178.6619446790406,
          179.64074255526904,
          180.6169338926212,
          181.70512000061785,
          182.65040889013403,
          183.80596327552027,
          184.77287269110062,
          185.87008111277052,
          186.8561519735409,
          187.84174922235934,
          188.86797152582335,
          189.96094354550766,
          190.9881128239182,
          192.0139541018345,
          193.10133001398663,
          193.97708854746782,
          195.04534154901972,
          196.1015277235956,
          197.25211603915366,
          198.3120375983952,
          199.26584402789746,
          200.08785454771345,
          201.0193919130651,
          202.0905448705773,
          203.24593568051156,
          204.36524892646548,
          205.54260549082093,
          206.63157162178703,
          207.53642778615927,
          208.43998170193615,
          209.5784818917548,
          210.59231274768723,
          211.6169157740055,
          212.64499038377716,
          213.62652056153797,
          214.72317314877378,
          215.92042201391638,
          216.959801103416,
          217.91860939823582,
          219.0124321479019,
          219.97020751116534,
          221.11578593448624,
          222.272062662245,
          223.29684662058582,
          224.26761703694828,
          225.52976957461516,
          226.76392952947464,
          227.72377439409252,
          228.68362001310882,
          229.85734599326233,
          231.0235071057336,
          231.91703796542092,
          232.9907527182073,
          234.09856087015854,
          235.10118776464142,
          236.12662767645426,
          237.16464941215153,
          238.29646803072748,
          239.20923136524252,
          240.11012826689026,
          241.1500216531397,
          242.15518352084186,
          243.34835650287275,
          244.43015310618176,
          245.3668895169418,
          246.49175137655536,
          247.50421630508393,
          248.552451236963,
          249.67191590025178,
          250.6939372980723,
          251.709408643042,
          252.76453060641953,
          253.87469073739987,
          254.99060716064105,
          256.0017378644447,
          257.0634851263017,
          258.0393401737495,
          259.0588953980507,
          260.1329819747931,
          261.01549907576754,
          262.04118821717725,
          262.8546039678118,
          263.8616842037985,
          265.0549550646248,
          266.1053755455474,
          267.187174106699,
          268.2882298268352,
          269.281747178028,
          270.1905035730804,
          271.33426950326475,
          272.4481858495061,
          273.46895614139106,
          274.5430992810634,
          275.6231815948208,
          276.63961627497883,
          277.614227837591,
          278.5778888540664,
          279.46643732148425,
          280.5705177026504,
          281.57552505564144,
          282.53250015346595,
          283.66342272687365,
          284.6613831611826,
          285.6137346968389,
          286.7853605645873,
          287.87304888323695,
          288.7805525737366,
          289.981685940528,
          291.0044596852422,
          291.9912482226843,
          292.93093926128086,
          294.1168188191812,
          295.22246621948545,
          296.356291973393,
          297.31094920957065,
          298.4747406400838,
          299.5744610175602,
          300.68474351000384,
          301.759165245359,
          302.61598656090496,
          303.45676332384767,
          304.3884068082793,
          305.1792888499407,
          306.07058436069906,
          306.96234270268207,
          307.57759698643105,
          308.11888253757786,
          308.5473711837072,
          309.13804026230645,
          309.66081831366466,
          310.2835998229292,
          310.7071166453131,
          310.9584840626246,
          311.1375702749215,
          311.4002785767653,
          311.6287943272597,
          311.92809620129816,
          312.2307864502859,
          312.4166249237888,
          312.4729534667877,
          312.4922999700154
         ]
        },
        {
         "marker": {
          "color": "green"
         },
         "type": "scatter",
         "x": [
          -1e-12,
          0.009999999999,
          0.019999999999,
          0.029999999999,
          0.039999999999,
          0.049999999999000004,
          0.059999999999,
          0.069999999999,
          0.079999999999,
          0.08999999999899999,
          0.099999999999,
          0.109999999999,
          0.11999999999899999,
          0.129999999999,
          0.139999999999,
          0.149999999999,
          0.159999999999,
          0.169999999999,
          0.179999999999,
          0.189999999999,
          0.199999999999,
          0.209999999999,
          0.219999999999,
          0.229999999999,
          0.23999999999899999,
          0.249999999999,
          0.25999999999900003,
          0.26999999999900004,
          0.27999999999900005,
          0.289999999999,
          0.299999999999,
          0.309999999999,
          0.31999999999900003,
          0.32999999999900004,
          0.33999999999900005,
          0.34999999999900006,
          0.359999999999,
          0.369999999999,
          0.379999999999,
          0.38999999999900004,
          0.39999999999900004,
          0.40999999999900005,
          0.419999999999,
          0.429999999999,
          0.439999999999,
          0.44999999999900003,
          0.45999999999900004,
          0.46999999999900005,
          0.479999999999,
          0.489999999999,
          0.499999999999,
          0.509999999999,
          0.519999999999,
          0.529999999999,
          0.5399999999990001,
          0.5499999999990001,
          0.5599999999990001,
          0.5699999999990001,
          0.579999999999,
          0.589999999999,
          0.599999999999,
          0.609999999999,
          0.619999999999,
          0.629999999999,
          0.639999999999,
          0.649999999999,
          0.659999999999,
          0.6699999999990001,
          0.6799999999990001,
          0.6899999999990001,
          0.6999999999990001,
          0.709999999999,
          0.719999999999,
          0.729999999999,
          0.739999999999,
          0.749999999999,
          0.759999999999,
          0.769999999999,
          0.779999999999,
          0.7899999999990001,
          0.7999999999990001,
          0.8099999999990001,
          0.8199999999990001,
          0.8299999999990001,
          0.839999999999,
          0.849999999999,
          0.859999999999,
          0.869999999999,
          0.879999999999,
          0.889999999999,
          0.899999999999,
          0.909999999999,
          0.9199999999990001,
          0.9299999999990001,
          0.9399999999990001,
          0.9499999999990001,
          0.959999999999,
          0.969999999999,
          0.979999999999,
          0.989999999999,
          0.999999999999,
          1.009999999999,
          1.019999999999,
          1.029999999999,
          1.039999999999,
          1.049999999999,
          1.059999999999,
          1.069999999999,
          1.079999999999,
          1.089999999999,
          1.099999999999,
          1.109999999999,
          1.119999999999,
          1.129999999999,
          1.139999999999,
          1.149999999999,
          1.1599999999989998,
          1.1699999999989998,
          1.1799999999989998,
          1.1899999999989999,
          1.1999999999989999,
          1.2099999999989999,
          1.2199999999989999,
          1.229999999999,
          1.239999999999,
          1.249999999999,
          1.259999999999,
          1.269999999999,
          1.279999999999,
          1.289999999999,
          1.299999999999,
          1.309999999999,
          1.319999999999,
          1.329999999999,
          1.339999999999,
          1.349999999999,
          1.359999999999,
          1.369999999999,
          1.379999999999,
          1.389999999999,
          1.399999999999,
          1.4099999999989998,
          1.4199999999989998,
          1.4299999999989998,
          1.4399999999989999,
          1.4499999999989999,
          1.4599999999989999,
          1.4699999999989999,
          1.479999999999,
          1.489999999999,
          1.499999999999,
          1.509999999999,
          1.519999999999,
          1.529999999999,
          1.539999999999,
          1.549999999999,
          1.559999999999,
          1.569999999999,
          1.579999999999,
          1.589999999999,
          1.599999999999,
          1.609999999999,
          1.619999999999,
          1.629999999999,
          1.639999999999,
          1.649999999999,
          1.659999999999,
          1.6699999999989998,
          1.6799999999989998,
          1.6899999999989999,
          1.6999999999989999,
          1.7099999999989999,
          1.7199999999989999,
          1.729999999999,
          1.739999999999,
          1.749999999999,
          1.759999999999,
          1.769999999999,
          1.779999999999,
          1.789999999999,
          1.799999999999,
          1.809999999999,
          1.819999999999,
          1.829999999999,
          1.839999999999,
          1.849999999999,
          1.859999999999,
          1.869999999999,
          1.879999999999,
          1.889999999999,
          1.899999999999,
          1.909999999999,
          1.9199999999989998,
          1.9299999999989998,
          1.9399999999989999,
          1.9499999999989999,
          1.9599999999989999,
          1.9699999999989999,
          1.979999999999,
          1.989999999999,
          1.999999999999,
          2.009999999999,
          2.019999999999,
          2.029999999999,
          2.039999999999,
          2.0499999999989997,
          2.059999999999,
          2.0699999999989998,
          2.079999999999,
          2.0899999999989998,
          2.099999999999,
          2.109999999999,
          2.119999999999,
          2.129999999999,
          2.139999999999,
          2.149999999999,
          2.159999999999,
          2.169999999999,
          2.179999999999,
          2.189999999999,
          2.199999999999,
          2.209999999999,
          2.219999999999,
          2.229999999999,
          2.239999999999,
          2.249999999999,
          2.259999999999,
          2.269999999999,
          2.279999999999,
          2.289999999999,
          2.299999999999,
          2.309999999999,
          2.3199999999989998,
          2.329999999999,
          2.3399999999989998,
          2.349999999999,
          2.359999999999,
          2.369999999999,
          2.379999999999,
          2.389999999999,
          2.399999999999,
          2.409999999999,
          2.419999999999,
          2.429999999999,
          2.439999999999,
          2.449999999999,
          2.459999999999,
          2.469999999999,
          2.479999999999,
          2.489999999999,
          2.499999999999,
          2.509999999999,
          2.519999999999,
          2.529999999999,
          2.539999999999,
          2.549999999999,
          2.559999999999,
          2.5699999999989998,
          2.579999999999,
          2.5899999999989998,
          2.599999999999,
          2.609999999999,
          2.619999999999,
          2.629999999999,
          2.639999999999,
          2.649999999999,
          2.659999999999,
          2.669999999999,
          2.679999999999,
          2.689999999999,
          2.699999999999,
          2.709999999999,
          2.719999999999,
          2.729999999999,
          2.739999999999,
          2.749999999999,
          2.759999999999,
          2.769999999999,
          2.779999999999,
          2.789999999999,
          2.799999999999,
          2.809999999999,
          2.8199999999989998,
          2.829999999999,
          2.8399999999989998,
          2.849999999999,
          2.859999999999,
          2.869999999999,
          2.879999999999,
          2.889999999999,
          2.899999999999,
          2.909999999999,
          2.919999999999,
          2.929999999999,
          2.939999999999,
          2.949999999999,
          2.959999999999,
          2.969999999999,
          2.979999999999,
          2.989999999999,
          2.999999999999,
          3.009999999999,
          3.019999999999,
          3.029999999999,
          3.039999999999,
          3.049999999999,
          3.059999999999,
          3.069999999999,
          3.079999999999,
          3.0899999999989998,
          3.099999999999,
          3.109999999999,
          3.119999999999,
          3.129999999999,
          3.139999999999,
          3.149999999999,
          3.159999999999,
          3.169999999999,
          3.179999999999,
          3.189999999999,
          3.199999999999,
          3.209999999999,
          3.219999999999,
          3.229999999999,
          3.239999999999,
          3.249999999999
         ],
         "y": [
          0,
          4,
          8,
          12,
          16,
          20,
          24,
          28,
          32,
          36,
          40,
          44,
          48,
          52,
          56,
          60,
          64,
          68,
          72,
          76,
          80,
          84,
          88,
          92,
          96,
          100,
          104,
          104,
          104,
          104,
          104,
          104,
          104,
          104,
          104,
          104,
          104,
          104,
          104,
          104,
          104,
          104,
          104,
          104,
          104,
          104,
          104,
          104,
          104,
          104,
          104,
          104,
          104,
          104,
          104,
          104,
          104,
          104,
          104,
          104,
          104,
          104,
          104,
          104,
          104,
          104,
          104,
          104,
          104,
          104,
          104,
          104,
          104,
          104,
          104,
          104,
          104,
          104,
          104,
          104,
          104,
          104,
          104,
          104,
          104,
          104,
          104,
          104,
          104,
          104,
          104,
          104,
          104,
          104,
          104,
          104,
          104,
          104,
          104,
          104,
          104,
          104,
          104,
          104,
          104,
          104,
          104,
          104,
          104,
          104,
          104,
          104,
          104,
          104,
          104,
          104,
          104,
          104,
          104,
          104,
          104,
          104,
          104,
          104,
          104,
          104,
          104,
          104,
          104,
          104,
          104,
          104,
          104,
          104,
          104,
          104,
          104,
          104,
          104,
          104,
          104,
          104,
          104,
          104,
          104,
          104,
          104,
          104,
          104,
          104,
          104,
          104,
          104,
          104,
          104,
          104,
          104,
          104,
          104,
          104,
          104,
          104,
          104,
          104,
          104,
          104,
          104,
          104,
          104,
          104,
          104,
          104,
          104,
          104,
          104,
          104,
          104,
          104,
          104,
          104,
          104,
          104,
          104,
          104,
          104,
          104,
          104,
          104,
          104,
          104,
          104,
          104,
          104,
          104,
          104,
          104,
          104,
          104,
          104,
          104,
          104,
          104,
          104,
          104,
          104,
          104,
          104,
          104,
          104,
          104,
          104,
          104,
          104,
          104,
          104,
          104,
          104,
          104,
          104,
          104,
          104,
          104,
          104,
          104,
          104,
          104,
          104,
          104,
          104,
          104,
          104,
          104,
          104,
          104,
          104,
          104,
          104,
          104,
          104,
          104,
          104,
          104,
          104,
          104,
          104,
          104,
          104,
          104,
          104,
          104,
          104,
          104,
          104,
          104,
          104,
          104,
          104,
          104,
          104,
          104,
          104,
          104,
          104,
          104,
          104,
          104,
          104,
          104,
          104,
          104,
          104,
          104,
          104,
          104,
          104,
          104,
          104,
          104,
          104,
          104,
          104,
          104,
          104,
          104,
          104,
          104,
          104,
          104,
          104,
          104,
          104,
          104,
          104,
          104,
          104,
          104,
          104,
          104,
          104,
          104,
          104,
          104,
          100,
          96,
          92,
          88,
          84,
          80,
          76,
          72,
          68,
          64,
          60,
          56,
          52,
          48,
          44,
          40,
          36,
          32,
          28,
          24,
          20,
          16,
          12,
          8
         ]
        }
       ],
       "layout": {
        "legend": {
         "tracegroupgap": 0
        },
        "margin": {
         "t": 60
        },
        "template": {
         "data": {
          "bar": [
           {
            "error_x": {
             "color": "#2a3f5f"
            },
            "error_y": {
             "color": "#2a3f5f"
            },
            "marker": {
             "line": {
              "color": "#E5ECF6",
              "width": 0.5
             },
             "pattern": {
              "fillmode": "overlay",
              "size": 10,
              "solidity": 0.2
             }
            },
            "type": "bar"
           }
          ],
          "barpolar": [
           {
            "marker": {
             "line": {
              "color": "#E5ECF6",
              "width": 0.5
             },
             "pattern": {
              "fillmode": "overlay",
              "size": 10,
              "solidity": 0.2
             }
            },
            "type": "barpolar"
           }
          ],
          "carpet": [
           {
            "aaxis": {
             "endlinecolor": "#2a3f5f",
             "gridcolor": "white",
             "linecolor": "white",
             "minorgridcolor": "white",
             "startlinecolor": "#2a3f5f"
            },
            "baxis": {
             "endlinecolor": "#2a3f5f",
             "gridcolor": "white",
             "linecolor": "white",
             "minorgridcolor": "white",
             "startlinecolor": "#2a3f5f"
            },
            "type": "carpet"
           }
          ],
          "choropleth": [
           {
            "colorbar": {
             "outlinewidth": 0,
             "ticks": ""
            },
            "type": "choropleth"
           }
          ],
          "contour": [
           {
            "colorbar": {
             "outlinewidth": 0,
             "ticks": ""
            },
            "colorscale": [
             [
              0,
              "#0d0887"
             ],
             [
              0.1111111111111111,
              "#46039f"
             ],
             [
              0.2222222222222222,
              "#7201a8"
             ],
             [
              0.3333333333333333,
              "#9c179e"
             ],
             [
              0.4444444444444444,
              "#bd3786"
             ],
             [
              0.5555555555555556,
              "#d8576b"
             ],
             [
              0.6666666666666666,
              "#ed7953"
             ],
             [
              0.7777777777777778,
              "#fb9f3a"
             ],
             [
              0.8888888888888888,
              "#fdca26"
             ],
             [
              1,
              "#f0f921"
             ]
            ],
            "type": "contour"
           }
          ],
          "contourcarpet": [
           {
            "colorbar": {
             "outlinewidth": 0,
             "ticks": ""
            },
            "type": "contourcarpet"
           }
          ],
          "heatmap": [
           {
            "colorbar": {
             "outlinewidth": 0,
             "ticks": ""
            },
            "colorscale": [
             [
              0,
              "#0d0887"
             ],
             [
              0.1111111111111111,
              "#46039f"
             ],
             [
              0.2222222222222222,
              "#7201a8"
             ],
             [
              0.3333333333333333,
              "#9c179e"
             ],
             [
              0.4444444444444444,
              "#bd3786"
             ],
             [
              0.5555555555555556,
              "#d8576b"
             ],
             [
              0.6666666666666666,
              "#ed7953"
             ],
             [
              0.7777777777777778,
              "#fb9f3a"
             ],
             [
              0.8888888888888888,
              "#fdca26"
             ],
             [
              1,
              "#f0f921"
             ]
            ],
            "type": "heatmap"
           }
          ],
          "histogram": [
           {
            "marker": {
             "pattern": {
              "fillmode": "overlay",
              "size": 10,
              "solidity": 0.2
             }
            },
            "type": "histogram"
           }
          ],
          "histogram2d": [
           {
            "colorbar": {
             "outlinewidth": 0,
             "ticks": ""
            },
            "colorscale": [
             [
              0,
              "#0d0887"
             ],
             [
              0.1111111111111111,
              "#46039f"
             ],
             [
              0.2222222222222222,
              "#7201a8"
             ],
             [
              0.3333333333333333,
              "#9c179e"
             ],
             [
              0.4444444444444444,
              "#bd3786"
             ],
             [
              0.5555555555555556,
              "#d8576b"
             ],
             [
              0.6666666666666666,
              "#ed7953"
             ],
             [
              0.7777777777777778,
              "#fb9f3a"
             ],
             [
              0.8888888888888888,
              "#fdca26"
             ],
             [
              1,
              "#f0f921"
             ]
            ],
            "type": "histogram2d"
           }
          ],
          "histogram2dcontour": [
           {
            "colorbar": {
             "outlinewidth": 0,
             "ticks": ""
            },
            "colorscale": [
             [
              0,
              "#0d0887"
             ],
             [
              0.1111111111111111,
              "#46039f"
             ],
             [
              0.2222222222222222,
              "#7201a8"
             ],
             [
              0.3333333333333333,
              "#9c179e"
             ],
             [
              0.4444444444444444,
              "#bd3786"
             ],
             [
              0.5555555555555556,
              "#d8576b"
             ],
             [
              0.6666666666666666,
              "#ed7953"
             ],
             [
              0.7777777777777778,
              "#fb9f3a"
             ],
             [
              0.8888888888888888,
              "#fdca26"
             ],
             [
              1,
              "#f0f921"
             ]
            ],
            "type": "histogram2dcontour"
           }
          ],
          "mesh3d": [
           {
            "colorbar": {
             "outlinewidth": 0,
             "ticks": ""
            },
            "type": "mesh3d"
           }
          ],
          "parcoords": [
           {
            "line": {
             "colorbar": {
              "outlinewidth": 0,
              "ticks": ""
             }
            },
            "type": "parcoords"
           }
          ],
          "pie": [
           {
            "automargin": true,
            "type": "pie"
           }
          ],
          "scatter": [
           {
            "fillpattern": {
             "fillmode": "overlay",
             "size": 10,
             "solidity": 0.2
            },
            "type": "scatter"
           }
          ],
          "scatter3d": [
           {
            "line": {
             "colorbar": {
              "outlinewidth": 0,
              "ticks": ""
             }
            },
            "marker": {
             "colorbar": {
              "outlinewidth": 0,
              "ticks": ""
             }
            },
            "type": "scatter3d"
           }
          ],
          "scattercarpet": [
           {
            "marker": {
             "colorbar": {
              "outlinewidth": 0,
              "ticks": ""
             }
            },
            "type": "scattercarpet"
           }
          ],
          "scattergeo": [
           {
            "marker": {
             "colorbar": {
              "outlinewidth": 0,
              "ticks": ""
             }
            },
            "type": "scattergeo"
           }
          ],
          "scattergl": [
           {
            "marker": {
             "colorbar": {
              "outlinewidth": 0,
              "ticks": ""
             }
            },
            "type": "scattergl"
           }
          ],
          "scattermap": [
           {
            "marker": {
             "colorbar": {
              "outlinewidth": 0,
              "ticks": ""
             }
            },
            "type": "scattermap"
           }
          ],
          "scattermapbox": [
           {
            "marker": {
             "colorbar": {
              "outlinewidth": 0,
              "ticks": ""
             }
            },
            "type": "scattermapbox"
           }
          ],
          "scatterpolar": [
           {
            "marker": {
             "colorbar": {
              "outlinewidth": 0,
              "ticks": ""
             }
            },
            "type": "scatterpolar"
           }
          ],
          "scatterpolargl": [
           {
            "marker": {
             "colorbar": {
              "outlinewidth": 0,
              "ticks": ""
             }
            },
            "type": "scatterpolargl"
           }
          ],
          "scatterternary": [
           {
            "marker": {
             "colorbar": {
              "outlinewidth": 0,
              "ticks": ""
             }
            },
            "type": "scatterternary"
           }
          ],
          "surface": [
           {
            "colorbar": {
             "outlinewidth": 0,
             "ticks": ""
            },
            "colorscale": [
             [
              0,
              "#0d0887"
             ],
             [
              0.1111111111111111,
              "#46039f"
             ],
             [
              0.2222222222222222,
              "#7201a8"
             ],
             [
              0.3333333333333333,
              "#9c179e"
             ],
             [
              0.4444444444444444,
              "#bd3786"
             ],
             [
              0.5555555555555556,
              "#d8576b"
             ],
             [
              0.6666666666666666,
              "#ed7953"
             ],
             [
              0.7777777777777778,
              "#fb9f3a"
             ],
             [
              0.8888888888888888,
              "#fdca26"
             ],
             [
              1,
              "#f0f921"
             ]
            ],
            "type": "surface"
           }
          ],
          "table": [
           {
            "cells": {
             "fill": {
              "color": "#EBF0F8"
             },
             "line": {
              "color": "white"
             }
            },
            "header": {
             "fill": {
              "color": "#C8D4E3"
             },
             "line": {
              "color": "white"
             }
            },
            "type": "table"
           }
          ]
         },
         "layout": {
          "annotationdefaults": {
           "arrowcolor": "#2a3f5f",
           "arrowhead": 0,
           "arrowwidth": 1
          },
          "autotypenumbers": "strict",
          "coloraxis": {
           "colorbar": {
            "outlinewidth": 0,
            "ticks": ""
           }
          },
          "colorscale": {
           "diverging": [
            [
             0,
             "#8e0152"
            ],
            [
             0.1,
             "#c51b7d"
            ],
            [
             0.2,
             "#de77ae"
            ],
            [
             0.3,
             "#f1b6da"
            ],
            [
             0.4,
             "#fde0ef"
            ],
            [
             0.5,
             "#f7f7f7"
            ],
            [
             0.6,
             "#e6f5d0"
            ],
            [
             0.7,
             "#b8e186"
            ],
            [
             0.8,
             "#7fbc41"
            ],
            [
             0.9,
             "#4d9221"
            ],
            [
             1,
             "#276419"
            ]
           ],
           "sequential": [
            [
             0,
             "#0d0887"
            ],
            [
             0.1111111111111111,
             "#46039f"
            ],
            [
             0.2222222222222222,
             "#7201a8"
            ],
            [
             0.3333333333333333,
             "#9c179e"
            ],
            [
             0.4444444444444444,
             "#bd3786"
            ],
            [
             0.5555555555555556,
             "#d8576b"
            ],
            [
             0.6666666666666666,
             "#ed7953"
            ],
            [
             0.7777777777777778,
             "#fb9f3a"
            ],
            [
             0.8888888888888888,
             "#fdca26"
            ],
            [
             1,
             "#f0f921"
            ]
           ],
           "sequentialminus": [
            [
             0,
             "#0d0887"
            ],
            [
             0.1111111111111111,
             "#46039f"
            ],
            [
             0.2222222222222222,
             "#7201a8"
            ],
            [
             0.3333333333333333,
             "#9c179e"
            ],
            [
             0.4444444444444444,
             "#bd3786"
            ],
            [
             0.5555555555555556,
             "#d8576b"
            ],
            [
             0.6666666666666666,
             "#ed7953"
            ],
            [
             0.7777777777777778,
             "#fb9f3a"
            ],
            [
             0.8888888888888888,
             "#fdca26"
            ],
            [
             1,
             "#f0f921"
            ]
           ]
          },
          "colorway": [
           "#636efa",
           "#EF553B",
           "#00cc96",
           "#ab63fa",
           "#FFA15A",
           "#19d3f3",
           "#FF6692",
           "#B6E880",
           "#FF97FF",
           "#FECB52"
          ],
          "font": {
           "color": "#2a3f5f"
          },
          "geo": {
           "bgcolor": "white",
           "lakecolor": "white",
           "landcolor": "#E5ECF6",
           "showlakes": true,
           "showland": true,
           "subunitcolor": "white"
          },
          "hoverlabel": {
           "align": "left"
          },
          "hovermode": "closest",
          "mapbox": {
           "style": "light"
          },
          "paper_bgcolor": "white",
          "plot_bgcolor": "#E5ECF6",
          "polar": {
           "angularaxis": {
            "gridcolor": "white",
            "linecolor": "white",
            "ticks": ""
           },
           "bgcolor": "#E5ECF6",
           "radialaxis": {
            "gridcolor": "white",
            "linecolor": "white",
            "ticks": ""
           }
          },
          "scene": {
           "xaxis": {
            "backgroundcolor": "#E5ECF6",
            "gridcolor": "white",
            "gridwidth": 2,
            "linecolor": "white",
            "showbackground": true,
            "ticks": "",
            "zerolinecolor": "white"
           },
           "yaxis": {
            "backgroundcolor": "#E5ECF6",
            "gridcolor": "white",
            "gridwidth": 2,
            "linecolor": "white",
            "showbackground": true,
            "ticks": "",
            "zerolinecolor": "white"
           },
           "zaxis": {
            "backgroundcolor": "#E5ECF6",
            "gridcolor": "white",
            "gridwidth": 2,
            "linecolor": "white",
            "showbackground": true,
            "ticks": "",
            "zerolinecolor": "white"
           }
          },
          "shapedefaults": {
           "line": {
            "color": "#2a3f5f"
           }
          },
          "ternary": {
           "aaxis": {
            "gridcolor": "white",
            "linecolor": "white",
            "ticks": ""
           },
           "baxis": {
            "gridcolor": "white",
            "linecolor": "white",
            "ticks": ""
           },
           "bgcolor": "#E5ECF6",
           "caxis": {
            "gridcolor": "white",
            "linecolor": "white",
            "ticks": ""
           }
          },
          "title": {
           "x": 0.05
          },
          "xaxis": {
           "automargin": true,
           "gridcolor": "white",
           "linecolor": "white",
           "ticks": "",
           "title": {
            "standoff": 15
           },
           "zerolinecolor": "white",
           "zerolinewidth": 2
          },
          "yaxis": {
           "automargin": true,
           "gridcolor": "white",
           "linecolor": "white",
           "ticks": "",
           "title": {
            "standoff": 15
           },
           "zerolinecolor": "white",
           "zerolinewidth": 2
          }
         }
        },
        "xaxis": {
         "anchor": "y",
         "domain": [
          0,
          1
         ],
         "title": {
          "text": "x"
         }
        },
        "yaxis": {
         "anchor": "x",
         "domain": [
          0,
          1
         ],
         "title": {
          "text": "y"
         }
        }
       }
      }
     },
     "metadata": {},
     "output_type": "display_data"
    }
   ],
   "source": [
    "import plotly.express as px\n",
    "print(len(x_true))\n",
    "print(len(time))\n",
    "fig = px.scatter(x=time, y=x_true)\n",
    "fig.add_scatter(x=time,y=v_true,marker=dict(color='blue'))\n",
    "fig.add_scatter(x=time,y=x_est,marker=dict(color='green'))\n",
    "fig.add_scatter(x=time,y=v_est,marker=dict(color='green'))\n",
    "fig.show()\n",
    "fig.write_html(\"r.html\")"
   ]
  },
  {
   "cell_type": "code",
   "execution_count": 70,
   "metadata": {},
   "outputs": [
    {
     "name": "stdout",
     "output_type": "stream",
     "text": [
      "326\n",
      "326\n"
     ]
    },
    {
     "data": {
      "application/vnd.plotly.v1+json": {
       "config": {
        "plotlyServerURL": "https://plot.ly"
       },
       "data": [
        {
         "hovertemplate": "x=%{x}<br>y=%{y}<extra></extra>",
         "legendgroup": "",
         "marker": {
          "color": "#636efa",
          "symbol": "circle"
         },
         "mode": "markers",
         "name": "",
         "orientation": "v",
         "showlegend": false,
         "type": "scatter",
         "x": {
          "bdata": "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",
          "dtype": "f8"
         },
         "xaxis": "x",
         "y": {
          "bdata": "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",
          "dtype": "f8"
         },
         "yaxis": "y"
        }
       ],
       "layout": {
        "legend": {
         "tracegroupgap": 0
        },
        "margin": {
         "t": 60
        },
        "template": {
         "data": {
          "bar": [
           {
            "error_x": {
             "color": "#2a3f5f"
            },
            "error_y": {
             "color": "#2a3f5f"
            },
            "marker": {
             "line": {
              "color": "#E5ECF6",
              "width": 0.5
             },
             "pattern": {
              "fillmode": "overlay",
              "size": 10,
              "solidity": 0.2
             }
            },
            "type": "bar"
           }
          ],
          "barpolar": [
           {
            "marker": {
             "line": {
              "color": "#E5ECF6",
              "width": 0.5
             },
             "pattern": {
              "fillmode": "overlay",
              "size": 10,
              "solidity": 0.2
             }
            },
            "type": "barpolar"
           }
          ],
          "carpet": [
           {
            "aaxis": {
             "endlinecolor": "#2a3f5f",
             "gridcolor": "white",
             "linecolor": "white",
             "minorgridcolor": "white",
             "startlinecolor": "#2a3f5f"
            },
            "baxis": {
             "endlinecolor": "#2a3f5f",
             "gridcolor": "white",
             "linecolor": "white",
             "minorgridcolor": "white",
             "startlinecolor": "#2a3f5f"
            },
            "type": "carpet"
           }
          ],
          "choropleth": [
           {
            "colorbar": {
             "outlinewidth": 0,
             "ticks": ""
            },
            "type": "choropleth"
           }
          ],
          "contour": [
           {
            "colorbar": {
             "outlinewidth": 0,
             "ticks": ""
            },
            "colorscale": [
             [
              0,
              "#0d0887"
             ],
             [
              0.1111111111111111,
              "#46039f"
             ],
             [
              0.2222222222222222,
              "#7201a8"
             ],
             [
              0.3333333333333333,
              "#9c179e"
             ],
             [
              0.4444444444444444,
              "#bd3786"
             ],
             [
              0.5555555555555556,
              "#d8576b"
             ],
             [
              0.6666666666666666,
              "#ed7953"
             ],
             [
              0.7777777777777778,
              "#fb9f3a"
             ],
             [
              0.8888888888888888,
              "#fdca26"
             ],
             [
              1,
              "#f0f921"
             ]
            ],
            "type": "contour"
           }
          ],
          "contourcarpet": [
           {
            "colorbar": {
             "outlinewidth": 0,
             "ticks": ""
            },
            "type": "contourcarpet"
           }
          ],
          "heatmap": [
           {
            "colorbar": {
             "outlinewidth": 0,
             "ticks": ""
            },
            "colorscale": [
             [
              0,
              "#0d0887"
             ],
             [
              0.1111111111111111,
              "#46039f"
             ],
             [
              0.2222222222222222,
              "#7201a8"
             ],
             [
              0.3333333333333333,
              "#9c179e"
             ],
             [
              0.4444444444444444,
              "#bd3786"
             ],
             [
              0.5555555555555556,
              "#d8576b"
             ],
             [
              0.6666666666666666,
              "#ed7953"
             ],
             [
              0.7777777777777778,
              "#fb9f3a"
             ],
             [
              0.8888888888888888,
              "#fdca26"
             ],
             [
              1,
              "#f0f921"
             ]
            ],
            "type": "heatmap"
           }
          ],
          "histogram": [
           {
            "marker": {
             "pattern": {
              "fillmode": "overlay",
              "size": 10,
              "solidity": 0.2
             }
            },
            "type": "histogram"
           }
          ],
          "histogram2d": [
           {
            "colorbar": {
             "outlinewidth": 0,
             "ticks": ""
            },
            "colorscale": [
             [
              0,
              "#0d0887"
             ],
             [
              0.1111111111111111,
              "#46039f"
             ],
             [
              0.2222222222222222,
              "#7201a8"
             ],
             [
              0.3333333333333333,
              "#9c179e"
             ],
             [
              0.4444444444444444,
              "#bd3786"
             ],
             [
              0.5555555555555556,
              "#d8576b"
             ],
             [
              0.6666666666666666,
              "#ed7953"
             ],
             [
              0.7777777777777778,
              "#fb9f3a"
             ],
             [
              0.8888888888888888,
              "#fdca26"
             ],
             [
              1,
              "#f0f921"
             ]
            ],
            "type": "histogram2d"
           }
          ],
          "histogram2dcontour": [
           {
            "colorbar": {
             "outlinewidth": 0,
             "ticks": ""
            },
            "colorscale": [
             [
              0,
              "#0d0887"
             ],
             [
              0.1111111111111111,
              "#46039f"
             ],
             [
              0.2222222222222222,
              "#7201a8"
             ],
             [
              0.3333333333333333,
              "#9c179e"
             ],
             [
              0.4444444444444444,
              "#bd3786"
             ],
             [
              0.5555555555555556,
              "#d8576b"
             ],
             [
              0.6666666666666666,
              "#ed7953"
             ],
             [
              0.7777777777777778,
              "#fb9f3a"
             ],
             [
              0.8888888888888888,
              "#fdca26"
             ],
             [
              1,
              "#f0f921"
             ]
            ],
            "type": "histogram2dcontour"
           }
          ],
          "mesh3d": [
           {
            "colorbar": {
             "outlinewidth": 0,
             "ticks": ""
            },
            "type": "mesh3d"
           }
          ],
          "parcoords": [
           {
            "line": {
             "colorbar": {
              "outlinewidth": 0,
              "ticks": ""
             }
            },
            "type": "parcoords"
           }
          ],
          "pie": [
           {
            "automargin": true,
            "type": "pie"
           }
          ],
          "scatter": [
           {
            "fillpattern": {
             "fillmode": "overlay",
             "size": 10,
             "solidity": 0.2
            },
            "type": "scatter"
           }
          ],
          "scatter3d": [
           {
            "line": {
             "colorbar": {
              "outlinewidth": 0,
              "ticks": ""
             }
            },
            "marker": {
             "colorbar": {
              "outlinewidth": 0,
              "ticks": ""
             }
            },
            "type": "scatter3d"
           }
          ],
          "scattercarpet": [
           {
            "marker": {
             "colorbar": {
              "outlinewidth": 0,
              "ticks": ""
             }
            },
            "type": "scattercarpet"
           }
          ],
          "scattergeo": [
           {
            "marker": {
             "colorbar": {
              "outlinewidth": 0,
              "ticks": ""
             }
            },
            "type": "scattergeo"
           }
          ],
          "scattergl": [
           {
            "marker": {
             "colorbar": {
              "outlinewidth": 0,
              "ticks": ""
             }
            },
            "type": "scattergl"
           }
          ],
          "scattermap": [
           {
            "marker": {
             "colorbar": {
              "outlinewidth": 0,
              "ticks": ""
             }
            },
            "type": "scattermap"
           }
          ],
          "scattermapbox": [
           {
            "marker": {
             "colorbar": {
              "outlinewidth": 0,
              "ticks": ""
             }
            },
            "type": "scattermapbox"
           }
          ],
          "scatterpolar": [
           {
            "marker": {
             "colorbar": {
              "outlinewidth": 0,
              "ticks": ""
             }
            },
            "type": "scatterpolar"
           }
          ],
          "scatterpolargl": [
           {
            "marker": {
             "colorbar": {
              "outlinewidth": 0,
              "ticks": ""
             }
            },
            "type": "scatterpolargl"
           }
          ],
          "scatterternary": [
           {
            "marker": {
             "colorbar": {
              "outlinewidth": 0,
              "ticks": ""
             }
            },
            "type": "scatterternary"
           }
          ],
          "surface": [
           {
            "colorbar": {
             "outlinewidth": 0,
             "ticks": ""
            },
            "colorscale": [
             [
              0,
              "#0d0887"
             ],
             [
              0.1111111111111111,
              "#46039f"
             ],
             [
              0.2222222222222222,
              "#7201a8"
             ],
             [
              0.3333333333333333,
              "#9c179e"
             ],
             [
              0.4444444444444444,
              "#bd3786"
             ],
             [
              0.5555555555555556,
              "#d8576b"
             ],
             [
              0.6666666666666666,
              "#ed7953"
             ],
             [
              0.7777777777777778,
              "#fb9f3a"
             ],
             [
              0.8888888888888888,
              "#fdca26"
             ],
             [
              1,
              "#f0f921"
             ]
            ],
            "type": "surface"
           }
          ],
          "table": [
           {
            "cells": {
             "fill": {
              "color": "#EBF0F8"
             },
             "line": {
              "color": "white"
             }
            },
            "header": {
             "fill": {
              "color": "#C8D4E3"
             },
             "line": {
              "color": "white"
             }
            },
            "type": "table"
           }
          ]
         },
         "layout": {
          "annotationdefaults": {
           "arrowcolor": "#2a3f5f",
           "arrowhead": 0,
           "arrowwidth": 1
          },
          "autotypenumbers": "strict",
          "coloraxis": {
           "colorbar": {
            "outlinewidth": 0,
            "ticks": ""
           }
          },
          "colorscale": {
           "diverging": [
            [
             0,
             "#8e0152"
            ],
            [
             0.1,
             "#c51b7d"
            ],
            [
             0.2,
             "#de77ae"
            ],
            [
             0.3,
             "#f1b6da"
            ],
            [
             0.4,
             "#fde0ef"
            ],
            [
             0.5,
             "#f7f7f7"
            ],
            [
             0.6,
             "#e6f5d0"
            ],
            [
             0.7,
             "#b8e186"
            ],
            [
             0.8,
             "#7fbc41"
            ],
            [
             0.9,
             "#4d9221"
            ],
            [
             1,
             "#276419"
            ]
           ],
           "sequential": [
            [
             0,
             "#0d0887"
            ],
            [
             0.1111111111111111,
             "#46039f"
            ],
            [
             0.2222222222222222,
             "#7201a8"
            ],
            [
             0.3333333333333333,
             "#9c179e"
            ],
            [
             0.4444444444444444,
             "#bd3786"
            ],
            [
             0.5555555555555556,
             "#d8576b"
            ],
            [
             0.6666666666666666,
             "#ed7953"
            ],
            [
             0.7777777777777778,
             "#fb9f3a"
            ],
            [
             0.8888888888888888,
             "#fdca26"
            ],
            [
             1,
             "#f0f921"
            ]
           ],
           "sequentialminus": [
            [
             0,
             "#0d0887"
            ],
            [
             0.1111111111111111,
             "#46039f"
            ],
            [
             0.2222222222222222,
             "#7201a8"
            ],
            [
             0.3333333333333333,
             "#9c179e"
            ],
            [
             0.4444444444444444,
             "#bd3786"
            ],
            [
             0.5555555555555556,
             "#d8576b"
            ],
            [
             0.6666666666666666,
             "#ed7953"
            ],
            [
             0.7777777777777778,
             "#fb9f3a"
            ],
            [
             0.8888888888888888,
             "#fdca26"
            ],
            [
             1,
             "#f0f921"
            ]
           ]
          },
          "colorway": [
           "#636efa",
           "#EF553B",
           "#00cc96",
           "#ab63fa",
           "#FFA15A",
           "#19d3f3",
           "#FF6692",
           "#B6E880",
           "#FF97FF",
           "#FECB52"
          ],
          "font": {
           "color": "#2a3f5f"
          },
          "geo": {
           "bgcolor": "white",
           "lakecolor": "white",
           "landcolor": "#E5ECF6",
           "showlakes": true,
           "showland": true,
           "subunitcolor": "white"
          },
          "hoverlabel": {
           "align": "left"
          },
          "hovermode": "closest",
          "mapbox": {
           "style": "light"
          },
          "paper_bgcolor": "white",
          "plot_bgcolor": "#E5ECF6",
          "polar": {
           "angularaxis": {
            "gridcolor": "white",
            "linecolor": "white",
            "ticks": ""
           },
           "bgcolor": "#E5ECF6",
           "radialaxis": {
            "gridcolor": "white",
            "linecolor": "white",
            "ticks": ""
           }
          },
          "scene": {
           "xaxis": {
            "backgroundcolor": "#E5ECF6",
            "gridcolor": "white",
            "gridwidth": 2,
            "linecolor": "white",
            "showbackground": true,
            "ticks": "",
            "zerolinecolor": "white"
           },
           "yaxis": {
            "backgroundcolor": "#E5ECF6",
            "gridcolor": "white",
            "gridwidth": 2,
            "linecolor": "white",
            "showbackground": true,
            "ticks": "",
            "zerolinecolor": "white"
           },
           "zaxis": {
            "backgroundcolor": "#E5ECF6",
            "gridcolor": "white",
            "gridwidth": 2,
            "linecolor": "white",
            "showbackground": true,
            "ticks": "",
            "zerolinecolor": "white"
           }
          },
          "shapedefaults": {
           "line": {
            "color": "#2a3f5f"
           }
          },
          "ternary": {
           "aaxis": {
            "gridcolor": "white",
            "linecolor": "white",
            "ticks": ""
           },
           "baxis": {
            "gridcolor": "white",
            "linecolor": "white",
            "ticks": ""
           },
           "bgcolor": "#E5ECF6",
           "caxis": {
            "gridcolor": "white",
            "linecolor": "white",
            "ticks": ""
           }
          },
          "title": {
           "x": 0.05
          },
          "xaxis": {
           "automargin": true,
           "gridcolor": "white",
           "linecolor": "white",
           "ticks": "",
           "title": {
            "standoff": 15
           },
           "zerolinecolor": "white",
           "zerolinewidth": 2
          },
          "yaxis": {
           "automargin": true,
           "gridcolor": "white",
           "linecolor": "white",
           "ticks": "",
           "title": {
            "standoff": 15
           },
           "zerolinecolor": "white",
           "zerolinewidth": 2
          }
         }
        },
        "xaxis": {
         "anchor": "y",
         "domain": [
          0,
          1
         ],
         "title": {
          "text": "x"
         }
        },
        "yaxis": {
         "anchor": "x",
         "domain": [
          0,
          1
         ],
         "title": {
          "text": "y"
         }
        }
       }
      }
     },
     "metadata": {},
     "output_type": "display_data"
    }
   ],
   "source": [
    "print(len(time))\n",
    "print(len(x_est))\n",
    "fig2 = px.scatter(x=time,y=x_est)\n",
    "fig2.show()"
   ]
  }
 ],
 "metadata": {
  "kernelspec": {
   "display_name": "venv",
   "language": "python",
   "name": "venv"
  },
  "language_info": {
   "codemirror_mode": {
    "name": "ipython",
    "version": 3
   },
   "file_extension": ".py",
   "mimetype": "text/x-python",
   "name": "python",
   "nbconvert_exporter": "python",
   "pygments_lexer": "ipython3",
   "version": "3.12.7"
  }
 },
 "nbformat": 4,
 "nbformat_minor": 2
}
